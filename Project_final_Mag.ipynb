{
 "cells": [
  {
   "cell_type": "markdown",
   "metadata": {},
   "source": [
    "### <b>Pre Processing</b> ###\n",
    "##### <i>Steps:</i>\n",
    "- Remove punctuations, numbers etc and using regex to only obtain words (i.e. made up of alphabets only)\n",
    "- Stop words removal using gensim's stopwords and addition of other stop words based on our evaluation\n",
    "- Add POS tagging for each word and lemmatize the word if word is tagged as a 'a', 'r', 'n', 'v'"
   ]
  },
  {
   "cell_type": "code",
   "execution_count": 228,
   "metadata": {},
   "outputs": [
    {
     "name": "stderr",
     "output_type": "stream",
     "text": [
      "[nltk_data] Error loading wordnet: <urlopen error [SSL:\n",
      "[nltk_data]     CERTIFICATE_VERIFY_FAILED] certificate verify failed:\n",
      "[nltk_data]     unable to get local issuer certificate (_ssl.c:1129)>\n"
     ]
    }
   ],
   "source": [
    "# Import all libraries\n",
    "import numpy as np\n",
    "import pandas as pd\n",
    "\n",
    "import nltk\n",
    "from nltk import word_tokenize, pos_tag\n",
    "from nltk.util import ngrams\n",
    "from nltk.corpus import PlaintextCorpusReader\n",
    "from nltk.stem import WordNetLemmatizer\n",
    "nltk.download('wordnet')\n",
    "\n",
    "from copy import deepcopy\n",
    "import re\n",
    "import string\n",
    "\n",
    "import gensim\n",
    "from gensim.parsing.preprocessing import STOPWORDS\n",
    "from gensim.parsing.porter import PorterStemmer\n",
    "from gensim.similarities import MatrixSimilarity\n",
    "from gensim import corpora\n",
    "from gensim import similarities\n",
    "from gensim import models\n",
    "\n",
    "from itertools import chain\n",
    "\n",
    "# Sample K-Means Clustering\n",
    "from sklearn.cluster import KMeans\n",
    "from sklearn.decomposition import TruncatedSVD\n",
    "from sklearn.metrics import silhouette_score, silhouette_samples\n",
    "from sklearn.metrics.pairwise import cosine_similarity\n",
    "from sklearn.preprocessing import StandardScaler\n",
    "\n",
    "\n",
    "# Hierarchical clustering\n",
    "import scipy.cluster.hierarchy as sch\n",
    "\n",
    "# tfidf vectorizer\n",
    "from sklearn.feature_extraction.text import TfidfVectorizer\n",
    "from sklearn.feature_extraction.text import TfidfTransformer\n",
    "\n",
    "import matplotlib.pyplot as plt\n",
    "import seaborn as sns\n",
    "\n",
    "import pickle\n",
    "from joblib import dump, load\n",
    "\n",
    "from tqdm import tqdm\n",
    "\n",
    "# to ignore warnings\n",
    "import warnings\n",
    "warnings.filterwarnings(\"ignore\")"
   ]
  },
  {
   "cell_type": "markdown",
   "metadata": {},
   "source": [
    "## Note: To get all outputs, refer to below code and run it (skip the next few cells)"
   ]
  },
  {
   "cell_type": "code",
   "execution_count": 229,
   "metadata": {},
   "outputs": [],
   "source": [
    "# Reading the textfiles\n",
    "corpus = PlaintextCorpusReader('court-cases-dataset', '.+\\.txt', encoding='latin-1')\n",
    "\n",
    "# Define a set of stopwords\n",
    "stop_words = set(STOPWORDS)\n",
    "\n",
    "# manually include stopwords\n",
    "stop_words.update([\"state\",\n",
    "    \"law\",\n",
    "    \"judgment\",\n",
    "    \"act\",\n",
    "    \"petitioner\",\n",
    "    \"decision\",\n",
    "    \"contract\",\n",
    "    \"writ\",\n",
    "    \"petition\",\n",
    "    \"file\",\n",
    "    \"statute\",\n",
    "    \"claim\",\n",
    "    \"order\",\n",
    "    \"cause\",\n",
    "    \"jurisdiction\",\n",
    "    \"grant\",\n",
    "    \"consideration\",\n",
    "    \"property\",\n",
    "    \"defendant\",\n",
    "    \"federal\",\n",
    "    \"power\",\n",
    "    \"certiorari\",\n",
    "    \"opinion\",\n",
    "    \"motion\",\n",
    "    \"appeal\",\n",
    "    \"company\",\n",
    "    \"plaintiff\",\n",
    "    \"bring\",\n",
    "    \"case\",\n",
    "    \"certain\",\n",
    "    \"come\",\n",
    "    \"court\",\n",
    "    \"et\",\n",
    "    \"fact\",\n",
    "    \"general\",\n",
    "    \"hold\",\n",
    "    \"include\",\n",
    "    \"like\",\n",
    "    \"particular\",\n",
    "    \"present\",\n",
    "    \"question\",\n",
    "    \"right\",\n",
    "    \"section\",\n",
    "    \"shall\",\n",
    "    \"think\",\n",
    "    \"year\"])\n",
    "\n",
    "# Define a WordNet Lemmatizer\n",
    "lemmatizer = WordNetLemmatizer()"
   ]
  },
  {
   "cell_type": "code",
   "execution_count": 230,
   "metadata": {},
   "outputs": [],
   "source": [
    "def preprocessing(corpus):\n",
    "    tokenized_1gram = []\n",
    "    # Tokenize into 1-grams (individual words) and 2-grams (word pairs)\n",
    "    for file_id in corpus.fileids():\n",
    "        text = corpus.raw(file_id)\n",
    "        \n",
    "        # remove punctuations\n",
    "        text_np = [w for w in text.split() if re.search('^[a-z]+$', w)]\n",
    "        \n",
    "        # remove stop words\n",
    "        text_stopped = [w for w in text_np if w not in stop_words]\n",
    "        text_joint = ' '.join(text_stopped)\n",
    "        \n",
    "        # POS tag, Convert to lowercase and tokenize\n",
    "        inner_lst=[]\n",
    "        for word, tag in pos_tag(word_tokenize(text_joint.lower())):\n",
    "            \n",
    "            wntag = tag[0].lower()\n",
    "            wntag = wntag if wntag in ['a', 'r', 'n', 'v'] else None\n",
    "            if not wntag:\n",
    "                lemma = word\n",
    "                \n",
    "            else:\n",
    "                lemma = lemmatizer.lemmatize(word, wntag)\n",
    "\n",
    "            inner_lst.append(lemma)\n",
    "            # inner_lst = [w for w in inner_lst if w not in stop_words]         \n",
    "        # # Lemmatize 1-grams \n",
    "        # tokens_1gram = [lemmatizer.lemmatize(token) for token in tokens_1gram]\n",
    "        \n",
    "        tokenized_1gram.append([w for w in inner_lst if w not in stop_words])\n",
    "    \n",
    "    return tokenized_1gram\n"
   ]
  },
  {
   "cell_type": "code",
   "execution_count": 231,
   "metadata": {},
   "outputs": [],
   "source": [
    "tokenized_1gram = preprocessing(corpus)"
   ]
  },
  {
   "cell_type": "code",
   "execution_count": 232,
   "metadata": {},
   "outputs": [],
   "source": [
    "# Join words together for frequency computations\n",
    "tokenized_1gram_joint = [word for sublist in tokenized_1gram for word in sublist]\n",
    "\n",
    "# Compute frequency of each word\n",
    "fdist = nltk.FreqDist(tokenized_1gram_joint)"
   ]
  },
  {
   "cell_type": "code",
   "execution_count": 233,
   "metadata": {},
   "outputs": [
    {
     "data": {
      "text/plain": [
       "[('require', 65773),\n",
       " ('provide', 59979),\n",
       " ('time', 56970),\n",
       " ('action', 55575),\n",
       " ('issue', 53181),\n",
       " ('rule', 52652),\n",
       " ('tax', 51963),\n",
       " ('provision', 51765),\n",
       " ('evidence', 50197),\n",
       " ('public', 47092)]"
      ]
     },
     "execution_count": 233,
     "metadata": {},
     "output_type": "execute_result"
    }
   ],
   "source": [
    "# To display the word frequencies\n",
    "most_common_words = fdist.most_common(200)  \n",
    "most_common_words[:10]"
   ]
  },
  {
   "cell_type": "markdown",
   "metadata": {},
   "source": [
    "- Save processed corpus"
   ]
  },
  {
   "cell_type": "code",
   "execution_count": 234,
   "metadata": {},
   "outputs": [],
   "source": [
    "with open(\"processed_tokens_unigram.pkl\", \"wb\") as file:\n",
    "    pickle.dump(tokenized_1gram, file)"
   ]
  },
  {
   "cell_type": "markdown",
   "metadata": {},
   "source": [
    "- Load processed corpus"
   ]
  },
  {
   "cell_type": "code",
   "execution_count": 235,
   "metadata": {},
   "outputs": [],
   "source": [
    "with open(\"processed_tokens_unigram.pkl\", \"rb\") as file:\n",
    "    tokenized_1gram = pickle.load(file)\n"
   ]
  },
  {
   "cell_type": "code",
   "execution_count": 236,
   "metadata": {},
   "outputs": [],
   "source": [
    "# for processing for LDA\n",
    "def docs2vecs(docs, dictionary):\n",
    "    # docs is a list of documents returned by corpus2docs.\n",
    "    # dictionary is a gensim.corpora.Dictionary object.\n",
    "    vecs1 = [dictionary.doc2bow(doc) for doc in docs]\n",
    "    return vecs1\n",
    "\n",
    "# obtain law doc\n",
    "law_docs = deepcopy(tokenized_1gram)"
   ]
  },
  {
   "cell_type": "code",
   "execution_count": 237,
   "metadata": {},
   "outputs": [
    {
     "name": "stdout",
     "output_type": "stream",
     "text": [
      "CPU times: user 14.2 s, sys: 4.82 s, total: 19 s\n",
      "Wall time: 21.2 s\n"
     ]
    }
   ],
   "source": [
    "%%time\n",
    "# conversion to vectors \n",
    "dictionary = gensim.corpora.Dictionary(tokenized_1gram)\n",
    "law_vecs = docs2vecs(tokenized_1gram, dictionary)"
   ]
  },
  {
   "cell_type": "markdown",
   "metadata": {},
   "source": [
    "- Conversion of matrix to Tfidf vectors"
   ]
  },
  {
   "cell_type": "code",
   "execution_count": 238,
   "metadata": {},
   "outputs": [
    {
     "name": "stdout",
     "output_type": "stream",
     "text": [
      "CPU times: user 3.76 s, sys: 489 ms, total: 4.25 s\n",
      "Wall time: 4.55 s\n"
     ]
    }
   ],
   "source": [
    "%%time\n",
    "\n",
    "\n",
    "# Use TfidfVectorizer to generate a vector representation of the text\n",
    "\n",
    "# Since TfidfVectorizer does not work on already tokenized text\n",
    "# Define dummy function and preprocessor\n",
    "def dummy_fun(doc):\n",
    "    return doc\n",
    "\n",
    "# Pass dummy function and preprocessor into TfidfVectorizer object\n",
    "tfidf_vect = TfidfVectorizer(analyzer='word', tokenizer=dummy_fun, preprocessor=dummy_fun, token_pattern=None)\n",
    "all_tfidf_vectors = tfidf_vect.fit_transform(tokenized_1gram)\n",
    "   "
   ]
  },
  {
   "cell_type": "code",
   "execution_count": 239,
   "metadata": {},
   "outputs": [
    {
     "data": {
      "text/plain": [
       "array(['abridgment', 'abro', 'abroad', 'abrogate', 'abrogated',\n",
       "       'abrogates', 'abrogating', 'abrogation', 'abrogative', 'abrupt'],\n",
       "      dtype=object)"
      ]
     },
     "execution_count": 239,
     "metadata": {},
     "output_type": "execute_result"
    }
   ],
   "source": [
    "tfidf_vect.get_feature_names_out()[150:160]"
   ]
  },
  {
   "cell_type": "markdown",
   "metadata": {},
   "source": [
    "- save all_tfidf_vectors matrix and TfidfVectorizer for easy reloading"
   ]
  },
  {
   "cell_type": "code",
   "execution_count": 240,
   "metadata": {},
   "outputs": [],
   "source": [
    "dump(tfidf_vect, 'tfidf_vect_unigram.joblib', protocol=4)\n",
    "np.save('all_tfidf_vectors_unigram.npy', all_tfidf_vectors)"
   ]
  },
  {
   "cell_type": "markdown",
   "metadata": {},
   "source": [
    "# For loading of outputs generated from above code\n",
    "- for reloading of TfidfVectorizer and its matrix "
   ]
  },
  {
   "cell_type": "code",
   "execution_count": 241,
   "metadata": {},
   "outputs": [],
   "source": [
    "def dummy_fun(doc):\n",
    "    return doc\n",
    "\n",
    "# loading of the model\n",
    "tfidf_vect = load('tfidf_vect_unigram.joblib')\n",
    "\n",
    "# loading of tfidf_vectors\n",
    "all_tfidf_vectors = np.load('all_tfidf_vectors_unigram.npy', allow_pickle=True)"
   ]
  },
  {
   "cell_type": "code",
   "execution_count": 242,
   "metadata": {},
   "outputs": [
    {
     "name": "stdout",
     "output_type": "stream",
     "text": [
      "(15000, 55474)\n"
     ]
    }
   ],
   "source": [
    "# After reloading all_tfidf_vectors, to convert back to its original format, run the below code\n",
    "\n",
    "X = all_tfidf_vectors\n",
    "\n",
    "# Check if X is a numpy scalar containing the sparse matrix\n",
    "if isinstance(X, np.ndarray) and X.dtype == object and hasattr(X.item(), 'shape'):\n",
    "    sparse_matrix = X.item()\n",
    "    print(sparse_matrix.shape)\n"
   ]
  },
  {
   "cell_type": "markdown",
   "metadata": {},
   "source": [
    "## Hierarchical Clustering\n",
    "#### Steps:\n",
    "- SVD for dimensionality reduction\n",
    "- Plotting dendogram to identify ideal number of clusters\n",
    "- Creating a model (Using agglomerative clustering) with optimal number of clusters as identified by the dendogram\n",
    "- Evaluating the results of the hierarchical model clustering using silhouette scores and correlation coefficient"
   ]
  },
  {
   "cell_type": "markdown",
   "metadata": {},
   "source": [
    "- Using SVD to reduce number of dimensions"
   ]
  },
  {
   "cell_type": "code",
   "execution_count": 243,
   "metadata": {},
   "outputs": [
    {
     "name": "stdout",
     "output_type": "stream",
     "text": [
      "CPU times: user 11.7 s, sys: 13.5 s, total: 25.2 s\n",
      "Wall time: 5.06 s\n"
     ]
    }
   ],
   "source": [
    "%%time\n",
    "\n",
    "# Assuming X is your tf-idf matrix\n",
    "svd = TruncatedSVD(n_components=100)  # Reduce to 100 dimensions, adjust as needed\n",
    "X_reduced = svd.fit_transform(sparse_matrix)"
   ]
  },
  {
   "cell_type": "code",
   "execution_count": 244,
   "metadata": {},
   "outputs": [
    {
     "name": "stdout",
     "output_type": "stream",
     "text": [
      "CPU times: user 2.71 s, sys: 2.59 s, total: 5.29 s\n",
      "Wall time: 2.56 s\n"
     ]
    }
   ],
   "source": [
    "%%time\n",
    "\n",
    "# Cosine similarity\n",
    "similarity = cosine_similarity(X_reduced)\n",
    "\n",
    "# Convert similarity to distance\n",
    "dist = 1 - similarity"
   ]
  },
  {
   "cell_type": "markdown",
   "metadata": {},
   "source": [
    "- Determine number of clusters based on dendogram - unigram"
   ]
  },
  {
   "cell_type": "code",
   "execution_count": 245,
   "metadata": {},
   "outputs": [
    {
     "data": {
      "image/png": "[encoded data removed]",
      "text/plain": [
       "<Figure size 1000x700 with 1 Axes>"
      ]
     },
     "metadata": {},
     "output_type": "display_data"
    },
    {
     "name": "stdout",
     "output_type": "stream",
     "text": [
      "CPU times: user 10min 42s, sys: 55 s, total: 11min 37s\n",
      "Wall time: 12min 12s\n"
     ]
    }
   ],
   "source": [
    "%%time\n",
    "\n",
    "# Dendogram to find the optimal number of clusters under PCA dataset\n",
    "plt.figure(figsize=(10, 7))\n",
    "dendrogram = sch.dendrogram(sch.linkage(dist,method = 'ward'))\n",
    "plt.hlines(15,0,5000,colors='r',linestyle='--') #Red line at Euclidean distance = 15 as that is the maximum distance between both blue lines\n",
    "plt.title('Dendrogram')\n",
    "plt.xlabel('samples')\n",
    "plt.ylabel('Euclidean distance')\n",
    "plt.show()\n"
   ]
  },
  {
   "cell_type": "markdown",
   "metadata": {},
   "source": [
    "- Creating a model (n_clusters = 3)"
   ]
  },
  {
   "cell_type": "code",
   "execution_count": 246,
   "metadata": {},
   "outputs": [
    {
     "name": "stdout",
     "output_type": "stream",
     "text": [
      "CPU times: user 8min 28s, sys: 12.1 s, total: 8min 40s\n",
      "Wall time: 8min 48s\n"
     ]
    }
   ],
   "source": [
    "%%time\n",
    "\n",
    "from sklearn.cluster import AgglomerativeClustering\n",
    "\n",
    "n_clusters = 3  # Adjust as needed\n",
    "clustering = AgglomerativeClustering(n_clusters=n_clusters, affinity='euclidean', linkage='ward')\n",
    "labels = clustering.fit_predict(dist)"
   ]
  },
  {
   "cell_type": "markdown",
   "metadata": {},
   "source": [
    "- Evaluation of results (Silhouette scores)"
   ]
  },
  {
   "cell_type": "code",
   "execution_count": 247,
   "metadata": {},
   "outputs": [
    {
     "name": "stdout",
     "output_type": "stream",
     "text": [
      "Silhouette score of cluster by Hierachical Clustering : 0.10563709435471362\n",
      "CPU times: user 13min 41s, sys: 44.4 s, total: 14min 25s\n",
      "Wall time: 2min 38s\n"
     ]
    },
    {
     "data": {
      "image/png": "[encoded data removed]",
      "text/plain": [
       "<Figure size 640x480 with 1 Axes>"
      ]
     },
     "metadata": {},
     "output_type": "display_data"
    }
   ],
   "source": [
    "%%time\n",
    "\n",
    "# Evaluate results of Hierachical Clustering\n",
    "sh_score_Clus = silhouette_score(dist, labels)\n",
    "print(\"Silhouette score of cluster by Hierachical Clustering :\",sh_score_Clus)\n",
    "sh_scores_Clus = silhouette_samples(dist, labels)\n",
    "p4=sns.distplot(sh_scores_Clus, hist=False, rug=True, label = 'HC');"
   ]
  },
  {
   "cell_type": "markdown",
   "metadata": {},
   "source": [
    "- Evaluation of results (Coeffcient correlation)"
   ]
  },
  {
   "cell_type": "code",
   "execution_count": 248,
   "metadata": {},
   "outputs": [
    {
     "name": "stdout",
     "output_type": "stream",
     "text": [
      "Cophenetic Correlation Coefficient: 0.633\n"
     ]
    }
   ],
   "source": [
    "from scipy.cluster.hierarchy import dendrogram, linkage, cophenet\n",
    "from scipy.spatial.distance import pdist\n",
    "\n",
    "Z = linkage(dist, 'ward')\n",
    "\n",
    "# Calculate the cophenetic correlation coefficient\n",
    "coph_corr, coph_dists = cophenet(Z, pdist(dist))\n",
    "print(f\"Cophenetic Correlation Coefficient: {coph_corr:.3f}\")"
   ]
  },
  {
   "cell_type": "code",
   "execution_count": 249,
   "metadata": {},
   "outputs": [
    {
     "name": "stdout",
     "output_type": "stream",
     "text": [
      "[1867 2915  713 ... 3758 2096  712]\n"
     ]
    }
   ],
   "source": [
    "from scipy.cluster.hierarchy import fcluster\n",
    "\n",
    "# Assign data points to clusters based on the dendrogram\n",
    "max_d = 10  # distance where you want to cut the dendrogram\n",
    "clusters = fcluster(Z, max_d, criterion='distance')\n",
    "\n",
    "print(clusters)"
   ]
  },
  {
   "cell_type": "code",
   "execution_count": 250,
   "metadata": {},
   "outputs": [
    {
     "data": {
      "image/png": "[encoded data removed]",
      "text/plain": [
       "<Figure size 640x480 with 1 Axes>"
      ]
     },
     "metadata": {},
     "output_type": "display_data"
    }
   ],
   "source": [
    "plt.scatter(dist[:,0], dist[:,1], c=clusters, cmap='rainbow')\n",
    "plt.title('Clusters')\n",
    "plt.show()"
   ]
  },
  {
   "cell_type": "markdown",
   "metadata": {},
   "source": [
    "- For saving the model"
   ]
  },
  {
   "cell_type": "code",
   "execution_count": 251,
   "metadata": {},
   "outputs": [
    {
     "data": {
      "text/plain": [
       "['agglomerative_model_3.joblib']"
      ]
     },
     "execution_count": 251,
     "metadata": {},
     "output_type": "execute_result"
    }
   ],
   "source": [
    "dump(clustering, 'agglomerative_model_3.joblib')"
   ]
  },
  {
   "cell_type": "markdown",
   "metadata": {},
   "source": [
    "## Using k-means clustering\n",
    "\n",
    "#### Steps:\n",
    "- Obtain optimal number of clusters based on the elbow method (from a range of 1 to 30)\n"
   ]
  },
  {
   "cell_type": "code",
   "execution_count": 252,
   "metadata": {},
   "outputs": [
    {
     "name": "stderr",
     "output_type": "stream",
     "text": [
      "100%|██████████| 28/28 [11:55<00:00, 25.56s/it]\n"
     ]
    },
    {
     "data": {
      "image/png": "[encoded data removed]",
      "text/plain": [
       "<Figure size 640x480 with 1 Axes>"
      ]
     },
     "metadata": {},
     "output_type": "display_data"
    }
   ],
   "source": [
    "# Elbow curve to find optimal K \n",
    "Sum_of_squared_distances = []\n",
    "K = range(2,30)\n",
    "for k in tqdm(K):\n",
    "    km = KMeans(init=\"k-means++\", n_clusters=k, max_iter = 300, n_init = 10,random_state=2023)\n",
    "    km = km.fit(sparse_matrix)\n",
    "    Sum_of_squared_distances.append(km.inertia_)\n",
    "\n",
    "ax = sns.lineplot(x=K, y=Sum_of_squared_distances)\n",
    "ax.lines[0].set_linestyle(\"--\")\n",
    "\n",
    "# Add a vertical line to show the optimum number of clusters (to revise)\n",
    "plt.axvline(17, color='#F26457', linestyle=':')\n",
    "\n",
    "plt.xlabel('k')\n",
    "plt.ylabel('Distortions')\n",
    "plt.title('Elbow Method For Optimal k')\n",
    "plt.show()"
   ]
  },
  {
   "cell_type": "code",
   "execution_count": 253,
   "metadata": {},
   "outputs": [
    {
     "name": "stderr",
     "output_type": "stream",
     "text": [
      "  4%|▎         | 1/28 [00:30<13:42, 30.44s/it]"
     ]
    },
    {
     "name": "stdout",
     "output_type": "stream",
     "text": [
      "For n_clusters = 2 The average silhouette_score is: 0.029580337346123156\n"
     ]
    },
    {
     "name": "stderr",
     "output_type": "stream",
     "text": [
      "  7%|▋         | 2/28 [01:01<13:21, 30.83s/it]"
     ]
    },
    {
     "name": "stdout",
     "output_type": "stream",
     "text": [
      "For n_clusters = 3 The average silhouette_score is: 0.032374328545366496\n"
     ]
    },
    {
     "name": "stderr",
     "output_type": "stream",
     "text": [
      " 11%|█         | 3/28 [01:34<13:18, 31.96s/it]"
     ]
    },
    {
     "name": "stdout",
     "output_type": "stream",
     "text": [
      "For n_clusters = 4 The average silhouette_score is: 0.02525246689389516\n"
     ]
    },
    {
     "name": "stderr",
     "output_type": "stream",
     "text": [
      " 14%|█▍        | 4/28 [02:09<13:08, 32.86s/it]"
     ]
    },
    {
     "name": "stdout",
     "output_type": "stream",
     "text": [
      "For n_clusters = 5 The average silhouette_score is: 0.027486089130979236\n"
     ]
    },
    {
     "name": "stderr",
     "output_type": "stream",
     "text": [
      " 18%|█▊        | 5/28 [02:45<13:03, 34.06s/it]"
     ]
    },
    {
     "name": "stdout",
     "output_type": "stream",
     "text": [
      "For n_clusters = 6 The average silhouette_score is: 0.029303260170769535\n"
     ]
    },
    {
     "name": "stderr",
     "output_type": "stream",
     "text": [
      " 21%|██▏       | 6/28 [03:21<12:41, 34.63s/it]"
     ]
    },
    {
     "name": "stdout",
     "output_type": "stream",
     "text": [
      "For n_clusters = 7 The average silhouette_score is: 0.03073958164769962\n"
     ]
    },
    {
     "name": "stderr",
     "output_type": "stream",
     "text": [
      " 25%|██▌       | 7/28 [03:58<12:29, 35.68s/it]"
     ]
    },
    {
     "name": "stdout",
     "output_type": "stream",
     "text": [
      "For n_clusters = 8 The average silhouette_score is: 0.03254704313240183\n"
     ]
    },
    {
     "name": "stderr",
     "output_type": "stream",
     "text": [
      " 29%|██▊       | 8/28 [04:39<12:22, 37.13s/it]"
     ]
    },
    {
     "name": "stdout",
     "output_type": "stream",
     "text": [
      "For n_clusters = 9 The average silhouette_score is: 0.033794165044207285\n"
     ]
    },
    {
     "name": "stderr",
     "output_type": "stream",
     "text": [
      " 32%|███▏      | 9/28 [05:19<12:05, 38.21s/it]"
     ]
    },
    {
     "name": "stdout",
     "output_type": "stream",
     "text": [
      "For n_clusters = 10 The average silhouette_score is: 0.03487047632964727\n"
     ]
    },
    {
     "name": "stderr",
     "output_type": "stream",
     "text": [
      " 36%|███▌      | 10/28 [06:03<12:00, 40.00s/it]"
     ]
    },
    {
     "name": "stdout",
     "output_type": "stream",
     "text": [
      "For n_clusters = 11 The average silhouette_score is: 0.03268196758879374\n"
     ]
    },
    {
     "name": "stderr",
     "output_type": "stream",
     "text": [
      " 39%|███▉      | 11/28 [06:48<11:43, 41.38s/it]"
     ]
    },
    {
     "name": "stdout",
     "output_type": "stream",
     "text": [
      "For n_clusters = 12 The average silhouette_score is: 0.036503020997226014\n"
     ]
    },
    {
     "name": "stderr",
     "output_type": "stream",
     "text": [
      " 43%|████▎     | 12/28 [07:35<11:31, 43.21s/it]"
     ]
    },
    {
     "name": "stdout",
     "output_type": "stream",
     "text": [
      "For n_clusters = 13 The average silhouette_score is: 0.035088017511960175\n"
     ]
    },
    {
     "name": "stderr",
     "output_type": "stream",
     "text": [
      " 46%|████▋     | 13/28 [08:21<11:01, 44.12s/it]"
     ]
    },
    {
     "name": "stdout",
     "output_type": "stream",
     "text": [
      "For n_clusters = 14 The average silhouette_score is: 0.034762490228730736\n"
     ]
    },
    {
     "name": "stderr",
     "output_type": "stream",
     "text": [
      " 50%|█████     | 14/28 [09:11<10:40, 45.72s/it]"
     ]
    },
    {
     "name": "stdout",
     "output_type": "stream",
     "text": [
      "For n_clusters = 15 The average silhouette_score is: 0.03469774661723298\n"
     ]
    },
    {
     "name": "stderr",
     "output_type": "stream",
     "text": [
      " 54%|█████▎    | 15/28 [10:00<10:09, 46.89s/it]"
     ]
    },
    {
     "name": "stdout",
     "output_type": "stream",
     "text": [
      "For n_clusters = 16 The average silhouette_score is: 0.03660196147446386\n"
     ]
    },
    {
     "name": "stderr",
     "output_type": "stream",
     "text": [
      " 57%|█████▋    | 16/28 [10:56<09:52, 49.39s/it]"
     ]
    },
    {
     "name": "stdout",
     "output_type": "stream",
     "text": [
      "For n_clusters = 17 The average silhouette_score is: 0.03704614149203235\n"
     ]
    },
    {
     "name": "stderr",
     "output_type": "stream",
     "text": [
      " 61%|██████    | 17/28 [11:49<09:15, 50.48s/it]"
     ]
    },
    {
     "name": "stdout",
     "output_type": "stream",
     "text": [
      "For n_clusters = 18 The average silhouette_score is: 0.034830686494725885\n"
     ]
    },
    {
     "name": "stderr",
     "output_type": "stream",
     "text": [
      " 64%|██████▍   | 18/28 [12:45<08:42, 52.28s/it]"
     ]
    },
    {
     "name": "stdout",
     "output_type": "stream",
     "text": [
      "For n_clusters = 19 The average silhouette_score is: 0.037189802480051395\n"
     ]
    },
    {
     "name": "stderr",
     "output_type": "stream",
     "text": [
      " 68%|██████▊   | 19/28 [13:44<08:07, 54.15s/it]"
     ]
    },
    {
     "name": "stdout",
     "output_type": "stream",
     "text": [
      "For n_clusters = 20 The average silhouette_score is: 0.037745421188586946\n"
     ]
    },
    {
     "name": "stderr",
     "output_type": "stream",
     "text": [
      " 71%|███████▏  | 20/28 [14:49<07:39, 57.47s/it]"
     ]
    },
    {
     "name": "stdout",
     "output_type": "stream",
     "text": [
      "For n_clusters = 21 The average silhouette_score is: 0.038402261370015775\n"
     ]
    },
    {
     "name": "stderr",
     "output_type": "stream",
     "text": [
      " 75%|███████▌  | 21/28 [15:52<06:54, 59.16s/it]"
     ]
    },
    {
     "name": "stdout",
     "output_type": "stream",
     "text": [
      "For n_clusters = 22 The average silhouette_score is: 0.03849237176396609\n"
     ]
    },
    {
     "name": "stderr",
     "output_type": "stream",
     "text": [
      " 79%|███████▊  | 22/28 [17:05<06:20, 63.49s/it]"
     ]
    },
    {
     "name": "stdout",
     "output_type": "stream",
     "text": [
      "For n_clusters = 23 The average silhouette_score is: 0.04020525980875597\n"
     ]
    },
    {
     "name": "stderr",
     "output_type": "stream",
     "text": [
      " 82%|████████▏ | 23/28 [18:22<05:36, 67.31s/it]"
     ]
    },
    {
     "name": "stdout",
     "output_type": "stream",
     "text": [
      "For n_clusters = 24 The average silhouette_score is: 0.038340219843985404\n"
     ]
    },
    {
     "name": "stderr",
     "output_type": "stream",
     "text": [
      " 86%|████████▌ | 24/28 [19:32<04:33, 68.32s/it]"
     ]
    },
    {
     "name": "stdout",
     "output_type": "stream",
     "text": [
      "For n_clusters = 25 The average silhouette_score is: 0.04089062890017223\n"
     ]
    },
    {
     "name": "stderr",
     "output_type": "stream",
     "text": [
      " 89%|████████▉ | 25/28 [20:50<03:33, 71.08s/it]"
     ]
    },
    {
     "name": "stdout",
     "output_type": "stream",
     "text": [
      "For n_clusters = 26 The average silhouette_score is: 0.036515505061011776\n"
     ]
    },
    {
     "name": "stderr",
     "output_type": "stream",
     "text": [
      " 93%|█████████▎| 26/28 [22:08<02:26, 73.15s/it]"
     ]
    },
    {
     "name": "stdout",
     "output_type": "stream",
     "text": [
      "For n_clusters = 27 The average silhouette_score is: 0.040947604896234585\n"
     ]
    },
    {
     "name": "stderr",
     "output_type": "stream",
     "text": [
      " 96%|█████████▋| 27/28 [23:24<01:14, 74.03s/it]"
     ]
    },
    {
     "name": "stdout",
     "output_type": "stream",
     "text": [
      "For n_clusters = 28 The average silhouette_score is: 0.03956622316511571\n"
     ]
    },
    {
     "name": "stderr",
     "output_type": "stream",
     "text": [
      "100%|██████████| 28/28 [24:46<00:00, 53.08s/it]"
     ]
    },
    {
     "name": "stdout",
     "output_type": "stream",
     "text": [
      "For n_clusters = 29 The average silhouette_score is: 0.04085829084337145\n"
     ]
    },
    {
     "name": "stderr",
     "output_type": "stream",
     "text": [
      "\n"
     ]
    }
   ],
   "source": [
    "# Silhouette Score \n",
    "def get_silhouette_score(sparse_matrix, k):\n",
    "    for n_clusters in tqdm(range(2, k)):\n",
    "        clusterer = KMeans(init=\"k-means++\", n_clusters=n_clusters, max_iter = 300, n_init = 10, random_state=2023)\n",
    "        y = clusterer.fit_predict(sparse_matrix)\n",
    "     \n",
    "        message = \"For n_clusters = {} The average silhouette_score is: {}\"\n",
    "        print(message.format(n_clusters, silhouette_score(sparse_matrix, y)))\n",
    "\n",
    "get_silhouette_score(sparse_matrix, 30)"
   ]
  },
  {
   "cell_type": "code",
   "execution_count": 254,
   "metadata": {},
   "outputs": [
    {
     "data": {
      "text/html": [
       "<div>\n",
       "<style scoped>\n",
       "    .dataframe tbody tr th:only-of-type {\n",
       "        vertical-align: middle;\n",
       "    }\n",
       "\n",
       "    .dataframe tbody tr th {\n",
       "        vertical-align: top;\n",
       "    }\n",
       "\n",
       "    .dataframe thead th {\n",
       "        text-align: right;\n",
       "    }\n",
       "</style>\n",
       "<table border=\"1\" class=\"dataframe\">\n",
       "  <thead>\n",
       "    <tr style=\"text-align: right;\">\n",
       "      <th></th>\n",
       "      <th>0</th>\n",
       "      <th>Cluster</th>\n",
       "    </tr>\n",
       "  </thead>\n",
       "  <tbody>\n",
       "    <tr>\n",
       "      <th>1</th>\n",
       "      <td>1</td>\n",
       "      <td>1</td>\n",
       "    </tr>\n",
       "    <tr>\n",
       "      <th>2</th>\n",
       "      <td>1</td>\n",
       "      <td>1</td>\n",
       "    </tr>\n",
       "    <tr>\n",
       "      <th>3</th>\n",
       "      <td>10</td>\n",
       "      <td>10</td>\n",
       "    </tr>\n",
       "    <tr>\n",
       "      <th>4</th>\n",
       "      <td>3</td>\n",
       "      <td>3</td>\n",
       "    </tr>\n",
       "  </tbody>\n",
       "</table>\n",
       "</div>"
      ],
      "text/plain": [
       "    0  Cluster\n",
       "1   1        1\n",
       "2   1        1\n",
       "3  10       10\n",
       "4   3        3"
      ]
     },
     "execution_count": 254,
     "metadata": {},
     "output_type": "execute_result"
    }
   ],
   "source": [
    "import pandas as pd\n",
    "# Set the number of clusters\n",
    "k = 17 #based on Elbow and Silhouette \n",
    "\n",
    "# Fit our Model\n",
    "model = KMeans(init=\"k-means++\", n_clusters=k, max_iter=30, n_init=1, random_state = 2023)\n",
    "model.fit(sparse_matrix)\n",
    "\n",
    "# Get the cluster labels\n",
    "clust_labels = model.predict(sparse_matrix)\n",
    "cent = model.cluster_centers_\n",
    "\n",
    "# Create data table \n",
    "kmeans_labels = pd.DataFrame(clust_labels)\n",
    "kmeans_labels.insert(kmeans_labels.shape[1], 'Cluster', kmeans_labels)\n",
    "kmeans_labels[1:5]"
   ]
  },
  {
   "cell_type": "markdown",
   "metadata": {},
   "source": [
    "- Saving the kmeans model"
   ]
  },
  {
   "cell_type": "code",
   "execution_count": 255,
   "metadata": {},
   "outputs": [
    {
     "data": {
      "text/plain": [
       "['kmeans_clustering_uni_17.joblib']"
      ]
     },
     "execution_count": 255,
     "metadata": {},
     "output_type": "execute_result"
    }
   ],
   "source": [
    "dump(model, 'kmeans_clustering_uni_17.joblib')"
   ]
  },
  {
   "cell_type": "markdown",
   "metadata": {},
   "source": [
    "- Loading the kmeans model"
   ]
  },
  {
   "cell_type": "code",
   "execution_count": 256,
   "metadata": {},
   "outputs": [],
   "source": [
    "# loading of the model\n",
    "model = load('kmeans_clustering_uni_17.joblib')"
   ]
  },
  {
   "cell_type": "code",
   "execution_count": 257,
   "metadata": {},
   "outputs": [
    {
     "name": "stdout",
     "output_type": "stream",
     "text": [
      "Top terms per cluster:\n",
      "Cluster 0: search police arrest officer warrant probable seizure evidence warrantless privacy\n",
      "Cluster 1: action provide require issue public provision respondent time person rule\n",
      "Cluster 2: pauperis forma leave proceed vacate light pro remand remanded docket\n",
      "Cluster 3: land title patent tract water public survey treaty railroad homestead\n",
      "Cluster 4: rate carrier transportation railroad interstate shipper tariff charge service shipment\n",
      "Cluster 5: vessel maritime admiralty ship port seaman cargo owner libel damage\n",
      "Cluster 6: bank national deposit banking stock check loan money credit note\n",
      "Cluster 7: vacate remanded remand light dismiss instruction direction mootness dissent suggestion\n",
      "Cluster 8: affirm deny divide equally brief probable appellant argue appellee amici\n",
      "Cluster 9: jury trial evidence criminal witness counsel indictment grand testimony conviction\n",
      "Cluster 10: tax income pay taxation corporation business value taxpayer assessment stock\n",
      "Cluster 11: dismiss want dismissed whereon paper substantial pro probable affirm appellee\n",
      "Cluster 12: sentence habeas death jury corpus trial conviction penalty punishment capital\n",
      "Cluster 13: stay execution death sentence application refer referred vacate habeas pending\n",
      "Cluster 14: circuit decree suit error district action bond bankruptcy party corporation\n",
      "Cluster 15: railroad car train interstate negligence track railway carrier injury passenger\n",
      "Cluster 16: employee union employer labor bargaining employment collective work agreement unfair\n"
     ]
    }
   ],
   "source": [
    "print(\"Top terms per cluster:\")\n",
    "order_centroids = cent.argsort()[:, ::-1]\n",
    "terms = tfidf_vect.get_feature_names_out()\n",
    "\n",
    "for i in range(k):\n",
    "    print(\"Cluster %d:\" % i, end='')\n",
    "    for ind in order_centroids[i, :10]:\n",
    "        print(' %s' % terms[ind], end='')\n",
    "    print()\n"
   ]
  },
  {
   "cell_type": "code",
   "execution_count": 258,
   "metadata": {},
   "outputs": [
    {
     "data": {
      "text/html": [
       "<div>\n",
       "<style scoped>\n",
       "    .dataframe tbody tr th:only-of-type {\n",
       "        vertical-align: middle;\n",
       "    }\n",
       "\n",
       "    .dataframe tbody tr th {\n",
       "        vertical-align: top;\n",
       "    }\n",
       "\n",
       "    .dataframe thead th {\n",
       "        text-align: right;\n",
       "    }\n",
       "</style>\n",
       "<table border=\"1\" class=\"dataframe\">\n",
       "  <thead>\n",
       "    <tr style=\"text-align: right;\">\n",
       "      <th></th>\n",
       "      <th>Cluster 0</th>\n",
       "      <th>Cluster 1</th>\n",
       "      <th>Cluster 2</th>\n",
       "      <th>Cluster 3</th>\n",
       "      <th>Cluster 4</th>\n",
       "      <th>Cluster 5</th>\n",
       "      <th>Cluster 6</th>\n",
       "      <th>Cluster 7</th>\n",
       "      <th>Cluster 8</th>\n",
       "      <th>Cluster 9</th>\n",
       "      <th>Cluster 10</th>\n",
       "      <th>Cluster 11</th>\n",
       "      <th>Cluster 12</th>\n",
       "      <th>Cluster 13</th>\n",
       "      <th>Cluster 14</th>\n",
       "      <th>Cluster 15</th>\n",
       "      <th>Cluster 16</th>\n",
       "    </tr>\n",
       "  </thead>\n",
       "  <tbody>\n",
       "    <tr>\n",
       "      <th>0</th>\n",
       "      <td>search</td>\n",
       "      <td>action</td>\n",
       "      <td>pauperis</td>\n",
       "      <td>land</td>\n",
       "      <td>rate</td>\n",
       "      <td>vessel</td>\n",
       "      <td>bank</td>\n",
       "      <td>vacate</td>\n",
       "      <td>affirm</td>\n",
       "      <td>jury</td>\n",
       "      <td>tax</td>\n",
       "      <td>dismiss</td>\n",
       "      <td>sentence</td>\n",
       "      <td>stay</td>\n",
       "      <td>circuit</td>\n",
       "      <td>railroad</td>\n",
       "      <td>employee</td>\n",
       "    </tr>\n",
       "    <tr>\n",
       "      <th>1</th>\n",
       "      <td>police</td>\n",
       "      <td>provide</td>\n",
       "      <td>forma</td>\n",
       "      <td>title</td>\n",
       "      <td>carrier</td>\n",
       "      <td>maritime</td>\n",
       "      <td>national</td>\n",
       "      <td>remanded</td>\n",
       "      <td>deny</td>\n",
       "      <td>trial</td>\n",
       "      <td>income</td>\n",
       "      <td>want</td>\n",
       "      <td>habeas</td>\n",
       "      <td>execution</td>\n",
       "      <td>decree</td>\n",
       "      <td>car</td>\n",
       "      <td>union</td>\n",
       "    </tr>\n",
       "    <tr>\n",
       "      <th>2</th>\n",
       "      <td>arrest</td>\n",
       "      <td>require</td>\n",
       "      <td>leave</td>\n",
       "      <td>patent</td>\n",
       "      <td>transportation</td>\n",
       "      <td>admiralty</td>\n",
       "      <td>deposit</td>\n",
       "      <td>remand</td>\n",
       "      <td>divide</td>\n",
       "      <td>evidence</td>\n",
       "      <td>pay</td>\n",
       "      <td>dismissed</td>\n",
       "      <td>death</td>\n",
       "      <td>death</td>\n",
       "      <td>suit</td>\n",
       "      <td>train</td>\n",
       "      <td>employer</td>\n",
       "    </tr>\n",
       "    <tr>\n",
       "      <th>3</th>\n",
       "      <td>officer</td>\n",
       "      <td>issue</td>\n",
       "      <td>proceed</td>\n",
       "      <td>tract</td>\n",
       "      <td>railroad</td>\n",
       "      <td>ship</td>\n",
       "      <td>banking</td>\n",
       "      <td>light</td>\n",
       "      <td>equally</td>\n",
       "      <td>criminal</td>\n",
       "      <td>taxation</td>\n",
       "      <td>whereon</td>\n",
       "      <td>jury</td>\n",
       "      <td>sentence</td>\n",
       "      <td>error</td>\n",
       "      <td>interstate</td>\n",
       "      <td>labor</td>\n",
       "    </tr>\n",
       "    <tr>\n",
       "      <th>4</th>\n",
       "      <td>warrant</td>\n",
       "      <td>public</td>\n",
       "      <td>vacate</td>\n",
       "      <td>water</td>\n",
       "      <td>interstate</td>\n",
       "      <td>port</td>\n",
       "      <td>stock</td>\n",
       "      <td>dismiss</td>\n",
       "      <td>brief</td>\n",
       "      <td>witness</td>\n",
       "      <td>corporation</td>\n",
       "      <td>paper</td>\n",
       "      <td>corpus</td>\n",
       "      <td>application</td>\n",
       "      <td>district</td>\n",
       "      <td>negligence</td>\n",
       "      <td>bargaining</td>\n",
       "    </tr>\n",
       "    <tr>\n",
       "      <th>5</th>\n",
       "      <td>probable</td>\n",
       "      <td>provision</td>\n",
       "      <td>light</td>\n",
       "      <td>public</td>\n",
       "      <td>shipper</td>\n",
       "      <td>seaman</td>\n",
       "      <td>check</td>\n",
       "      <td>instruction</td>\n",
       "      <td>probable</td>\n",
       "      <td>counsel</td>\n",
       "      <td>business</td>\n",
       "      <td>substantial</td>\n",
       "      <td>trial</td>\n",
       "      <td>refer</td>\n",
       "      <td>action</td>\n",
       "      <td>track</td>\n",
       "      <td>employment</td>\n",
       "    </tr>\n",
       "    <tr>\n",
       "      <th>6</th>\n",
       "      <td>seizure</td>\n",
       "      <td>respondent</td>\n",
       "      <td>pro</td>\n",
       "      <td>survey</td>\n",
       "      <td>tariff</td>\n",
       "      <td>cargo</td>\n",
       "      <td>loan</td>\n",
       "      <td>direction</td>\n",
       "      <td>appellant</td>\n",
       "      <td>indictment</td>\n",
       "      <td>value</td>\n",
       "      <td>pro</td>\n",
       "      <td>conviction</td>\n",
       "      <td>referred</td>\n",
       "      <td>bond</td>\n",
       "      <td>railway</td>\n",
       "      <td>collective</td>\n",
       "    </tr>\n",
       "    <tr>\n",
       "      <th>7</th>\n",
       "      <td>evidence</td>\n",
       "      <td>time</td>\n",
       "      <td>remand</td>\n",
       "      <td>treaty</td>\n",
       "      <td>charge</td>\n",
       "      <td>owner</td>\n",
       "      <td>money</td>\n",
       "      <td>mootness</td>\n",
       "      <td>argue</td>\n",
       "      <td>grand</td>\n",
       "      <td>taxpayer</td>\n",
       "      <td>probable</td>\n",
       "      <td>penalty</td>\n",
       "      <td>vacate</td>\n",
       "      <td>bankruptcy</td>\n",
       "      <td>carrier</td>\n",
       "      <td>work</td>\n",
       "    </tr>\n",
       "    <tr>\n",
       "      <th>8</th>\n",
       "      <td>warrantless</td>\n",
       "      <td>person</td>\n",
       "      <td>remanded</td>\n",
       "      <td>railroad</td>\n",
       "      <td>service</td>\n",
       "      <td>libel</td>\n",
       "      <td>credit</td>\n",
       "      <td>dissent</td>\n",
       "      <td>appellee</td>\n",
       "      <td>testimony</td>\n",
       "      <td>assessment</td>\n",
       "      <td>affirm</td>\n",
       "      <td>punishment</td>\n",
       "      <td>habeas</td>\n",
       "      <td>party</td>\n",
       "      <td>injury</td>\n",
       "      <td>agreement</td>\n",
       "    </tr>\n",
       "    <tr>\n",
       "      <th>9</th>\n",
       "      <td>privacy</td>\n",
       "      <td>rule</td>\n",
       "      <td>docket</td>\n",
       "      <td>homestead</td>\n",
       "      <td>shipment</td>\n",
       "      <td>damage</td>\n",
       "      <td>note</td>\n",
       "      <td>suggestion</td>\n",
       "      <td>amici</td>\n",
       "      <td>conviction</td>\n",
       "      <td>stock</td>\n",
       "      <td>appellee</td>\n",
       "      <td>capital</td>\n",
       "      <td>pending</td>\n",
       "      <td>corporation</td>\n",
       "      <td>passenger</td>\n",
       "      <td>unfair</td>\n",
       "    </tr>\n",
       "    <tr>\n",
       "      <th>10</th>\n",
       "      <td>seize</td>\n",
       "      <td>regulation</td>\n",
       "      <td>curia</td>\n",
       "      <td>possession</td>\n",
       "      <td>gas</td>\n",
       "      <td>master</td>\n",
       "      <td>pay</td>\n",
       "      <td>reconsideration</td>\n",
       "      <td>curia</td>\n",
       "      <td>charge</td>\n",
       "      <td>sale</td>\n",
       "      <td>vacate</td>\n",
       "      <td>mitigate</td>\n",
       "      <td>corpus</td>\n",
       "      <td>supreme</td>\n",
       "      <td>engine</td>\n",
       "      <td>bargain</td>\n",
       "    </tr>\n",
       "    <tr>\n",
       "      <th>11</th>\n",
       "      <td>suspect</td>\n",
       "      <td>use</td>\n",
       "      <td>rehear</td>\n",
       "      <td>deed</td>\n",
       "      <td>freight</td>\n",
       "      <td>liability</td>\n",
       "      <td>share</td>\n",
       "      <td>vacated</td>\n",
       "      <td>pro</td>\n",
       "      <td>judge</td>\n",
       "      <td>taxable</td>\n",
       "      <td>appellant</td>\n",
       "      <td>prisoner</td>\n",
       "      <td>terminate</td>\n",
       "      <td>mortgage</td>\n",
       "      <td>line</td>\n",
       "      <td>respondent</td>\n",
       "    </tr>\n",
       "    <tr>\n",
       "      <th>12</th>\n",
       "      <td>stop</td>\n",
       "      <td>patent</td>\n",
       "      <td>mandamus</td>\n",
       "      <td>entry</td>\n",
       "      <td>line</td>\n",
       "      <td>injury</td>\n",
       "      <td>receiver</td>\n",
       "      <td>brief</td>\n",
       "      <td>urge</td>\n",
       "      <td>confession</td>\n",
       "      <td>estate</td>\n",
       "      <td>amicus</td>\n",
       "      <td>judge</td>\n",
       "      <td>disposition</td>\n",
       "      <td>pay</td>\n",
       "      <td>commerce</td>\n",
       "      <td>picket</td>\n",
       "    </tr>\n",
       "    <tr>\n",
       "      <th>13</th>\n",
       "      <td>person</td>\n",
       "      <td>constitutional</td>\n",
       "      <td>fee</td>\n",
       "      <td>allotment</td>\n",
       "      <td>commission</td>\n",
       "      <td>foreign</td>\n",
       "      <td>association</td>\n",
       "      <td>amici</td>\n",
       "      <td>amicus</td>\n",
       "      <td>juror</td>\n",
       "      <td>impose</td>\n",
       "      <td>jurisdictional</td>\n",
       "      <td>aggravate</td>\n",
       "      <td>deny</td>\n",
       "      <td>creditor</td>\n",
       "      <td>jury</td>\n",
       "      <td>arbitration</td>\n",
       "    </tr>\n",
       "    <tr>\n",
       "      <th>14</th>\n",
       "      <td>car</td>\n",
       "      <td>party</td>\n",
       "      <td>compliance</td>\n",
       "      <td>reservation</td>\n",
       "      <td>fix</td>\n",
       "      <td>water</td>\n",
       "      <td>asset</td>\n",
       "      <td>rehear</td>\n",
       "      <td>appellees</td>\n",
       "      <td>constitutional</td>\n",
       "      <td>payment</td>\n",
       "      <td>appellees</td>\n",
       "      <td>murder</td>\n",
       "      <td>enter</td>\n",
       "      <td>time</td>\n",
       "      <td>employee</td>\n",
       "      <td>member</td>\n",
       "    </tr>\n",
       "    <tr>\n",
       "      <th>15</th>\n",
       "      <td>reasonable</td>\n",
       "      <td>purpose</td>\n",
       "      <td>vacated</td>\n",
       "      <td>decree</td>\n",
       "      <td>commerce</td>\n",
       "      <td>voyage</td>\n",
       "      <td>business</td>\n",
       "      <td>complaint</td>\n",
       "      <td>noted</td>\n",
       "      <td>accuse</td>\n",
       "      <td>interstate</td>\n",
       "      <td>dispense</td>\n",
       "      <td>evidence</td>\n",
       "      <td>rehear</td>\n",
       "      <td>trustee</td>\n",
       "      <td>freight</td>\n",
       "      <td>dispute</td>\n",
       "    </tr>\n",
       "    <tr>\n",
       "      <th>16</th>\n",
       "      <td>criminal</td>\n",
       "      <td>authority</td>\n",
       "      <td>habeas</td>\n",
       "      <td>government</td>\n",
       "      <td>public</td>\n",
       "      <td>navigable</td>\n",
       "      <td>capital</td>\n",
       "      <td>proceeding</td>\n",
       "      <td>briefs</td>\n",
       "      <td>statement</td>\n",
       "      <td>gross</td>\n",
       "      <td>vacated</td>\n",
       "      <td>offense</td>\n",
       "      <td>granted</td>\n",
       "      <td>payment</td>\n",
       "      <td>action</td>\n",
       "      <td>provision</td>\n",
       "    </tr>\n",
       "    <tr>\n",
       "      <th>17</th>\n",
       "      <td>respondent</td>\n",
       "      <td>brief</td>\n",
       "      <td>brief</td>\n",
       "      <td>acre</td>\n",
       "      <td>cent</td>\n",
       "      <td>lien</td>\n",
       "      <td>liability</td>\n",
       "      <td>curia</td>\n",
       "      <td>set</td>\n",
       "      <td>prosecution</td>\n",
       "      <td>net</td>\n",
       "      <td>oral</td>\n",
       "      <td>review</td>\n",
       "      <td>event</td>\n",
       "      <td>proceeding</td>\n",
       "      <td>road</td>\n",
       "      <td>strike</td>\n",
       "    </tr>\n",
       "    <tr>\n",
       "      <th>18</th>\n",
       "      <td>home</td>\n",
       "      <td>review</td>\n",
       "      <td>reconsideration</td>\n",
       "      <td>boundary</td>\n",
       "      <td>intrastate</td>\n",
       "      <td>negligence</td>\n",
       "      <td>payment</td>\n",
       "      <td>want</td>\n",
       "      <td>argued</td>\n",
       "      <td>crime</td>\n",
       "      <td>levy</td>\n",
       "      <td>light</td>\n",
       "      <td>convict</td>\n",
       "      <td>cruel</td>\n",
       "      <td>city</td>\n",
       "      <td>damage</td>\n",
       "      <td>practice</td>\n",
       "    </tr>\n",
       "    <tr>\n",
       "      <th>19</th>\n",
       "      <td>rule</td>\n",
       "      <td>reason</td>\n",
       "      <td>noncriminal</td>\n",
       "      <td>time</td>\n",
       "      <td>value</td>\n",
       "      <td>action</td>\n",
       "      <td>depositor</td>\n",
       "      <td>amicus</td>\n",
       "      <td>dismiss</td>\n",
       "      <td>error</td>\n",
       "      <td>capital</td>\n",
       "      <td>remand</td>\n",
       "      <td>criminal</td>\n",
       "      <td>applicant</td>\n",
       "      <td>stock</td>\n",
       "      <td>switch</td>\n",
       "      <td>wage</td>\n",
       "    </tr>\n",
       "    <tr>\n",
       "      <th>20</th>\n",
       "      <td>conduct</td>\n",
       "      <td>application</td>\n",
       "      <td>dissent</td>\n",
       "      <td>sale</td>\n",
       "      <td>cost</td>\n",
       "      <td>shipowner</td>\n",
       "      <td>fund</td>\n",
       "      <td>examination</td>\n",
       "      <td>oral</td>\n",
       "      <td>rule</td>\n",
       "      <td>assess</td>\n",
       "      <td>properly</td>\n",
       "      <td>impose</td>\n",
       "      <td>mandate</td>\n",
       "      <td>sum</td>\n",
       "      <td>evidence</td>\n",
       "      <td>require</td>\n",
       "    </tr>\n",
       "    <tr>\n",
       "      <th>21</th>\n",
       "      <td>believe</td>\n",
       "      <td>school</td>\n",
       "      <td>corpus</td>\n",
       "      <td>line</td>\n",
       "      <td>point</td>\n",
       "      <td>suit</td>\n",
       "      <td>action</td>\n",
       "      <td>reverse</td>\n",
       "      <td>reversal</td>\n",
       "      <td>offense</td>\n",
       "      <td>provision</td>\n",
       "      <td>amici</td>\n",
       "      <td>counsel</td>\n",
       "      <td>issue</td>\n",
       "      <td>citizen</td>\n",
       "      <td>duty</td>\n",
       "      <td>action</td>\n",
       "    </tr>\n",
       "    <tr>\n",
       "      <th>22</th>\n",
       "      <td>constitutional</td>\n",
       "      <td>district</td>\n",
       "      <td>amicus</td>\n",
       "      <td>owner</td>\n",
       "      <td>common</td>\n",
       "      <td>rule</td>\n",
       "      <td>stockholder</td>\n",
       "      <td>argue</td>\n",
       "      <td>divided</td>\n",
       "      <td>verdict</td>\n",
       "      <td>subject</td>\n",
       "      <td>leave</td>\n",
       "      <td>constitutional</td>\n",
       "      <td>capital</td>\n",
       "      <td>receiver</td>\n",
       "      <td>error</td>\n",
       "      <td>provide</td>\n",
       "    </tr>\n",
       "    <tr>\n",
       "      <th>23</th>\n",
       "      <td>exclusionary</td>\n",
       "      <td>government</td>\n",
       "      <td>respondent</td>\n",
       "      <td>acquire</td>\n",
       "      <td>provision</td>\n",
       "      <td>loss</td>\n",
       "      <td>tax</td>\n",
       "      <td>respondent</td>\n",
       "      <td>rail</td>\n",
       "      <td>testify</td>\n",
       "      <td>collect</td>\n",
       "      <td>brief</td>\n",
       "      <td>crime</td>\n",
       "      <td>merit</td>\n",
       "      <td>issue</td>\n",
       "      <td>operate</td>\n",
       "      <td>discharge</td>\n",
       "    </tr>\n",
       "    <tr>\n",
       "      <th>24</th>\n",
       "      <td>narcotic</td>\n",
       "      <td>suit</td>\n",
       "      <td>submit</td>\n",
       "      <td>conveyance</td>\n",
       "      <td>require</td>\n",
       "      <td>time</td>\n",
       "      <td>account</td>\n",
       "      <td>reason</td>\n",
       "      <td>affirmance</td>\n",
       "      <td>guilty</td>\n",
       "      <td>deduction</td>\n",
       "      <td>noted</td>\n",
       "      <td>imprisonment</td>\n",
       "      <td>penalty</td>\n",
       "      <td>sale</td>\n",
       "      <td>time</td>\n",
       "      <td>grievance</td>\n",
       "    </tr>\n",
       "  </tbody>\n",
       "</table>\n",
       "</div>"
      ],
      "text/plain": [
       "         Cluster 0       Cluster 1        Cluster 2    Cluster 3  \\\n",
       "0           search          action         pauperis         land   \n",
       "1           police         provide            forma        title   \n",
       "2           arrest         require            leave       patent   \n",
       "3          officer           issue          proceed        tract   \n",
       "4          warrant          public           vacate        water   \n",
       "5         probable       provision            light       public   \n",
       "6          seizure      respondent              pro       survey   \n",
       "7         evidence            time           remand       treaty   \n",
       "8      warrantless          person         remanded     railroad   \n",
       "9          privacy            rule           docket    homestead   \n",
       "10           seize      regulation            curia   possession   \n",
       "11         suspect             use           rehear         deed   \n",
       "12            stop          patent         mandamus        entry   \n",
       "13          person  constitutional              fee    allotment   \n",
       "14             car           party       compliance  reservation   \n",
       "15      reasonable         purpose          vacated       decree   \n",
       "16        criminal       authority           habeas   government   \n",
       "17      respondent           brief            brief         acre   \n",
       "18            home          review  reconsideration     boundary   \n",
       "19            rule          reason      noncriminal         time   \n",
       "20         conduct     application          dissent         sale   \n",
       "21         believe          school           corpus         line   \n",
       "22  constitutional        district           amicus        owner   \n",
       "23    exclusionary      government       respondent      acquire   \n",
       "24        narcotic            suit           submit   conveyance   \n",
       "\n",
       "         Cluster 4   Cluster 5    Cluster 6        Cluster 7   Cluster 8  \\\n",
       "0             rate      vessel         bank           vacate      affirm   \n",
       "1          carrier    maritime     national         remanded        deny   \n",
       "2   transportation   admiralty      deposit           remand      divide   \n",
       "3         railroad        ship      banking            light     equally   \n",
       "4       interstate        port        stock          dismiss       brief   \n",
       "5          shipper      seaman        check      instruction    probable   \n",
       "6           tariff       cargo         loan        direction   appellant   \n",
       "7           charge       owner        money         mootness       argue   \n",
       "8          service       libel       credit          dissent    appellee   \n",
       "9         shipment      damage         note       suggestion       amici   \n",
       "10             gas      master          pay  reconsideration       curia   \n",
       "11         freight   liability        share          vacated         pro   \n",
       "12            line      injury     receiver            brief        urge   \n",
       "13      commission     foreign  association            amici      amicus   \n",
       "14             fix       water        asset           rehear   appellees   \n",
       "15        commerce      voyage     business        complaint       noted   \n",
       "16          public   navigable      capital       proceeding      briefs   \n",
       "17            cent        lien    liability            curia         set   \n",
       "18      intrastate  negligence      payment             want      argued   \n",
       "19           value      action    depositor           amicus     dismiss   \n",
       "20            cost   shipowner         fund      examination        oral   \n",
       "21           point        suit       action          reverse    reversal   \n",
       "22          common        rule  stockholder            argue     divided   \n",
       "23       provision        loss          tax       respondent        rail   \n",
       "24         require        time      account           reason  affirmance   \n",
       "\n",
       "         Cluster 9   Cluster 10      Cluster 11      Cluster 12   Cluster 13  \\\n",
       "0             jury          tax         dismiss        sentence         stay   \n",
       "1            trial       income            want          habeas    execution   \n",
       "2         evidence          pay       dismissed           death        death   \n",
       "3         criminal     taxation         whereon            jury     sentence   \n",
       "4          witness  corporation           paper          corpus  application   \n",
       "5          counsel     business     substantial           trial        refer   \n",
       "6       indictment        value             pro      conviction     referred   \n",
       "7            grand     taxpayer        probable         penalty       vacate   \n",
       "8        testimony   assessment          affirm      punishment       habeas   \n",
       "9       conviction        stock        appellee         capital      pending   \n",
       "10          charge         sale          vacate        mitigate       corpus   \n",
       "11           judge      taxable       appellant        prisoner    terminate   \n",
       "12      confession       estate          amicus           judge  disposition   \n",
       "13           juror       impose  jurisdictional       aggravate         deny   \n",
       "14  constitutional      payment       appellees          murder        enter   \n",
       "15          accuse   interstate        dispense        evidence       rehear   \n",
       "16       statement        gross         vacated         offense      granted   \n",
       "17     prosecution          net            oral          review        event   \n",
       "18           crime         levy           light         convict        cruel   \n",
       "19           error      capital          remand        criminal    applicant   \n",
       "20            rule       assess        properly          impose      mandate   \n",
       "21         offense    provision           amici         counsel        issue   \n",
       "22         verdict      subject           leave  constitutional      capital   \n",
       "23         testify      collect           brief           crime        merit   \n",
       "24          guilty    deduction           noted    imprisonment      penalty   \n",
       "\n",
       "     Cluster 14  Cluster 15   Cluster 16  \n",
       "0       circuit    railroad     employee  \n",
       "1        decree         car        union  \n",
       "2          suit       train     employer  \n",
       "3         error  interstate        labor  \n",
       "4      district  negligence   bargaining  \n",
       "5        action       track   employment  \n",
       "6          bond     railway   collective  \n",
       "7    bankruptcy     carrier         work  \n",
       "8         party      injury    agreement  \n",
       "9   corporation   passenger       unfair  \n",
       "10      supreme      engine      bargain  \n",
       "11     mortgage        line   respondent  \n",
       "12          pay    commerce       picket  \n",
       "13     creditor        jury  arbitration  \n",
       "14         time    employee       member  \n",
       "15      trustee     freight      dispute  \n",
       "16      payment      action    provision  \n",
       "17   proceeding        road       strike  \n",
       "18         city      damage     practice  \n",
       "19        stock      switch         wage  \n",
       "20          sum    evidence      require  \n",
       "21      citizen        duty       action  \n",
       "22     receiver       error      provide  \n",
       "23        issue     operate    discharge  \n",
       "24         sale        time    grievance  "
      ]
     },
     "execution_count": 258,
     "metadata": {},
     "output_type": "execute_result"
    }
   ],
   "source": [
    "order_centroids = model.cluster_centers_.argsort()[:, ::-1]\n",
    "terms = tfidf_vect.get_feature_names_out()\n",
    "\n",
    "results_dict = {}\n",
    "\n",
    "for i in range(k):\n",
    "    terms_list = []\n",
    "\n",
    "    for ind in order_centroids[i, :25]:  \n",
    "        terms_list.append(terms[ind])\n",
    "\n",
    "    results_dict[f'Cluster {i}'] = terms_list\n",
    "\n",
    "df_clusters = pd.DataFrame.from_dict(results_dict)\n",
    "df_clusters"
   ]
  },
  {
   "cell_type": "markdown",
   "metadata": {},
   "source": [
    "### Using LDA for topic modeling"
   ]
  },
  {
   "cell_type": "code",
   "execution_count": 259,
   "metadata": {},
   "outputs": [
    {
     "name": "stderr",
     "output_type": "stream",
     "text": [
      "  6%|▋         | 1/16 [01:17<19:26, 77.79s/it]"
     ]
    },
    {
     "name": "stdout",
     "output_type": "stream",
     "text": [
      "# Topics: 10 Score: 0.41439326374998553\n"
     ]
    },
    {
     "name": "stderr",
     "output_type": "stream",
     "text": [
      " 12%|█▎        | 2/16 [02:35<18:05, 77.51s/it]"
     ]
    },
    {
     "name": "stdout",
     "output_type": "stream",
     "text": [
      "# Topics: 11 Score: 0.40933603068367186\n"
     ]
    },
    {
     "name": "stderr",
     "output_type": "stream",
     "text": [
      " 19%|█▉        | 3/16 [03:57<17:15, 79.68s/it]"
     ]
    },
    {
     "name": "stdout",
     "output_type": "stream",
     "text": [
      "# Topics: 12 Score: 0.4013457659070643\n"
     ]
    },
    {
     "name": "stderr",
     "output_type": "stream",
     "text": [
      " 25%|██▌       | 4/16 [05:23<16:27, 82.25s/it]"
     ]
    },
    {
     "name": "stdout",
     "output_type": "stream",
     "text": [
      "# Topics: 13 Score: 0.42330439012779997\n"
     ]
    },
    {
     "name": "stderr",
     "output_type": "stream",
     "text": [
      " 31%|███▏      | 5/16 [06:50<15:25, 84.11s/it]"
     ]
    },
    {
     "name": "stdout",
     "output_type": "stream",
     "text": [
      "# Topics: 14 Score: 0.4240139581702093\n"
     ]
    },
    {
     "name": "stderr",
     "output_type": "stream",
     "text": [
      " 38%|███▊      | 6/16 [08:21<14:23, 86.35s/it]"
     ]
    },
    {
     "name": "stdout",
     "output_type": "stream",
     "text": [
      "# Topics: 15 Score: 0.4376193082275532\n"
     ]
    },
    {
     "name": "stderr",
     "output_type": "stream",
     "text": [
      " 44%|████▍     | 7/16 [10:02<13:38, 91.00s/it]"
     ]
    },
    {
     "name": "stdout",
     "output_type": "stream",
     "text": [
      "# Topics: 16 Score: 0.40408342899309485\n"
     ]
    },
    {
     "name": "stderr",
     "output_type": "stream",
     "text": [
      " 50%|█████     | 8/16 [11:39<12:24, 93.10s/it]"
     ]
    },
    {
     "name": "stdout",
     "output_type": "stream",
     "text": [
      "# Topics: 17 Score: 0.4459192563856514\n"
     ]
    },
    {
     "name": "stderr",
     "output_type": "stream",
     "text": [
      " 56%|█████▋    | 9/16 [13:30<11:29, 98.49s/it]"
     ]
    },
    {
     "name": "stdout",
     "output_type": "stream",
     "text": [
      "# Topics: 18 Score: 0.4423662937156736\n"
     ]
    },
    {
     "name": "stderr",
     "output_type": "stream",
     "text": [
      " 62%|██████▎   | 10/16 [15:15<10:04, 100.73s/it]"
     ]
    },
    {
     "name": "stdout",
     "output_type": "stream",
     "text": [
      "# Topics: 19 Score: 0.4219106167376254\n"
     ]
    },
    {
     "name": "stderr",
     "output_type": "stream",
     "text": [
      " 69%|██████▉   | 11/16 [17:01<08:31, 102.29s/it]"
     ]
    },
    {
     "name": "stdout",
     "output_type": "stream",
     "text": [
      "# Topics: 20 Score: 0.4463913012653026\n"
     ]
    },
    {
     "name": "stderr",
     "output_type": "stream",
     "text": [
      " 75%|███████▌  | 12/16 [19:07<07:17, 109.32s/it]"
     ]
    },
    {
     "name": "stdout",
     "output_type": "stream",
     "text": [
      "# Topics: 21 Score: 0.4657578600033548\n"
     ]
    },
    {
     "name": "stderr",
     "output_type": "stream",
     "text": [
      " 81%|████████▏ | 13/16 [20:59<05:30, 110.26s/it]"
     ]
    },
    {
     "name": "stdout",
     "output_type": "stream",
     "text": [
      "# Topics: 22 Score: 0.45689715648676615\n"
     ]
    },
    {
     "name": "stderr",
     "output_type": "stream",
     "text": [
      " 88%|████████▊ | 14/16 [23:08<03:51, 115.76s/it]"
     ]
    },
    {
     "name": "stdout",
     "output_type": "stream",
     "text": [
      "# Topics: 23 Score: 0.4474225203073415\n"
     ]
    },
    {
     "name": "stderr",
     "output_type": "stream",
     "text": [
      " 94%|█████████▍| 15/16 [25:11<01:58, 118.20s/it]"
     ]
    },
    {
     "name": "stdout",
     "output_type": "stream",
     "text": [
      "# Topics: 24 Score: 0.45164263497834184\n"
     ]
    },
    {
     "name": "stderr",
     "output_type": "stream",
     "text": [
      "100%|██████████| 16/16 [27:22<00:00, 102.63s/it]"
     ]
    },
    {
     "name": "stdout",
     "output_type": "stream",
     "text": [
      "# Topics: 25 Score: 0.4462491224949852\n",
      "CPU times: user 9min 30s, sys: 16min 30s, total: 26min 1s\n",
      "Wall time: 27min 22s\n"
     ]
    },
    {
     "name": "stderr",
     "output_type": "stream",
     "text": [
      "\n"
     ]
    }
   ],
   "source": [
    "%%time\n",
    "from gensim.models import CoherenceModel\n",
    "\n",
    "model_list = []\n",
    "coherence_values = []\n",
    "model_topics = []\n",
    "\n",
    "for num_topics in tqdm(range(10, 26)):\n",
    "    sg_lda_x = gensim.models.ldamodel.LdaModel(corpus=law_vecs, id2word=dictionary, num_topics=num_topics)\n",
    "    coherencemodel = CoherenceModel(model=sg_lda_x, texts=law_docs, dictionary=dictionary, coherence='c_v')\n",
    "    model_topics.append(num_topics)\n",
    "    model_list.append(sg_lda_x)\n",
    "    coherence_values.append(coherencemodel.get_coherence())\n",
    "    print(\"# Topics: \" + str(num_topics) + \" Score: \" + str(coherencemodel.get_coherence()))"
   ]
  },
  {
   "cell_type": "code",
   "execution_count": 260,
   "metadata": {},
   "outputs": [
    {
     "name": "stdout",
     "output_type": "stream",
     "text": [
      "CPU times: user 32.6 s, sys: 1min 9s, total: 1min 41s\n",
      "Wall time: 18.9 s\n"
     ]
    }
   ],
   "source": [
    "%%time\n",
    "\n",
    "# Create the LDA model\n",
    "lda_gen = gensim.models.ldamodel.LdaModel(corpus=law_vecs, id2word=dictionary, random_state=2023, num_topics=17) #Num_topics to revise"
   ]
  },
  {
   "cell_type": "code",
   "execution_count": 261,
   "metadata": {},
   "outputs": [
    {
     "name": "stdout",
     "output_type": "stream",
     "text": [
      "CPU times: user 57.9 s, sys: 1min 52s, total: 2min 49s\n",
      "Wall time: 33.8 s\n"
     ]
    },
    {
     "data": {
      "text/html": [
       "<div>\n",
       "<style scoped>\n",
       "    .dataframe tbody tr th:only-of-type {\n",
       "        vertical-align: middle;\n",
       "    }\n",
       "\n",
       "    .dataframe tbody tr th {\n",
       "        vertical-align: top;\n",
       "    }\n",
       "\n",
       "    .dataframe thead th {\n",
       "        text-align: right;\n",
       "    }\n",
       "</style>\n",
       "<table border=\"1\" class=\"dataframe\">\n",
       "  <thead>\n",
       "    <tr style=\"text-align: right;\">\n",
       "      <th></th>\n",
       "      <th>Document_No</th>\n",
       "      <th>Dominant_Topic</th>\n",
       "      <th>Topic_Perc_Contrib</th>\n",
       "      <th>Keywords</th>\n",
       "      <th>Text</th>\n",
       "    </tr>\n",
       "  </thead>\n",
       "  <tbody>\n",
       "    <tr>\n",
       "      <th>0</th>\n",
       "      <td>0</td>\n",
       "      <td>0</td>\n",
       "      <td>0.4454</td>\n",
       "      <td>land, city, pay, title, public, time, bond, ra...</td>\n",
       "      <td>[deny, respondent, respondent, deliver, exhibi...</td>\n",
       "    </tr>\n",
       "    <tr>\n",
       "      <th>1</th>\n",
       "      <td>1</td>\n",
       "      <td>14</td>\n",
       "      <td>0.9476</td>\n",
       "      <td>public, constitutional, protect, speech, immun...</td>\n",
       "      <td>[criminalize, desecration, flag, way, actor, k...</td>\n",
       "    </tr>\n",
       "    <tr>\n",
       "      <th>2</th>\n",
       "      <td>2</td>\n",
       "      <td>3</td>\n",
       "      <td>0.9643</td>\n",
       "      <td>patent, vote, election, political, district, p...</td>\n",
       "      <td>[deliver, suit, infringement, letter, patent, ...</td>\n",
       "    </tr>\n",
       "    <tr>\n",
       "      <th>3</th>\n",
       "      <td>3</td>\n",
       "      <td>11</td>\n",
       "      <td>0.5702</td>\n",
       "      <td>estate, child, death, trust, time, gift, trans...</td>\n",
       "      <td>[deliver, presented, validity, collateral, inh...</td>\n",
       "    </tr>\n",
       "    <tr>\n",
       "      <th>4</th>\n",
       "      <td>4</td>\n",
       "      <td>9</td>\n",
       "      <td>0.4014</td>\n",
       "      <td>water, land, patent, line, river, use, decree,...</td>\n",
       "      <td>[deliver, enable, saline, land, enable, select...</td>\n",
       "    </tr>\n",
       "    <tr>\n",
       "      <th>5</th>\n",
       "      <td>5</td>\n",
       "      <td>11</td>\n",
       "      <td>0.4785</td>\n",
       "      <td>estate, child, death, trust, time, gift, trans...</td>\n",
       "      <td>[complaint, suit, accounting, supreme, judicia...</td>\n",
       "    </tr>\n",
       "    <tr>\n",
       "      <th>6</th>\n",
       "      <td>6</td>\n",
       "      <td>2</td>\n",
       "      <td>0.8205</td>\n",
       "      <td>jury, sentence, trial, criminal, evidence, dea...</td>\n",
       "      <td>[dismiss, improvidently, argue, brief, argued,...</td>\n",
       "    </tr>\n",
       "    <tr>\n",
       "      <th>7</th>\n",
       "      <td>7</td>\n",
       "      <td>11</td>\n",
       "      <td>0.4589</td>\n",
       "      <td>estate, child, death, trust, time, gift, trans...</td>\n",
       "      <td>[deliver, bridge, age, employed, error, wage, ...</td>\n",
       "    </tr>\n",
       "    <tr>\n",
       "      <th>8</th>\n",
       "      <td>8</td>\n",
       "      <td>8</td>\n",
       "      <td>0.6985</td>\n",
       "      <td>tax, rate, business, corporation, value, incom...</td>\n",
       "      <td>[violate, impose, annual, tax, operation, truc...</td>\n",
       "    </tr>\n",
       "    <tr>\n",
       "      <th>9</th>\n",
       "      <td>9</td>\n",
       "      <td>12</td>\n",
       "      <td>0.3728</td>\n",
       "      <td>leave, proceed, issue, practice, remand, decre...</td>\n",
       "      <td>[decree, proceeding, picture, plan, reorganiza...</td>\n",
       "    </tr>\n",
       "  </tbody>\n",
       "</table>\n",
       "</div>"
      ],
      "text/plain": [
       "   Document_No  Dominant_Topic  Topic_Perc_Contrib  \\\n",
       "0            0               0              0.4454   \n",
       "1            1              14              0.9476   \n",
       "2            2               3              0.9643   \n",
       "3            3              11              0.5702   \n",
       "4            4               9              0.4014   \n",
       "5            5              11              0.4785   \n",
       "6            6               2              0.8205   \n",
       "7            7              11              0.4589   \n",
       "8            8               8              0.6985   \n",
       "9            9              12              0.3728   \n",
       "\n",
       "                                            Keywords  \\\n",
       "0  land, city, pay, title, public, time, bond, ra...   \n",
       "1  public, constitutional, protect, speech, immun...   \n",
       "2  patent, vote, election, political, district, p...   \n",
       "3  estate, child, death, trust, time, gift, trans...   \n",
       "4  water, land, patent, line, river, use, decree,...   \n",
       "5  estate, child, death, trust, time, gift, trans...   \n",
       "6  jury, sentence, trial, criminal, evidence, dea...   \n",
       "7  estate, child, death, trust, time, gift, trans...   \n",
       "8  tax, rate, business, corporation, value, incom...   \n",
       "9  leave, proceed, issue, practice, remand, decre...   \n",
       "\n",
       "                                                Text  \n",
       "0  [deny, respondent, respondent, deliver, exhibi...  \n",
       "1  [criminalize, desecration, flag, way, actor, k...  \n",
       "2  [deliver, suit, infringement, letter, patent, ...  \n",
       "3  [deliver, presented, validity, collateral, inh...  \n",
       "4  [deliver, enable, saline, land, enable, select...  \n",
       "5  [complaint, suit, accounting, supreme, judicia...  \n",
       "6  [dismiss, improvidently, argue, brief, argued,...  \n",
       "7  [deliver, bridge, age, employed, error, wage, ...  \n",
       "8  [violate, impose, annual, tax, operation, truc...  \n",
       "9  [decree, proceeding, picture, plan, reorganiza...  "
      ]
     },
     "execution_count": 261,
     "metadata": {},
     "output_type": "execute_result"
    }
   ],
   "source": [
    "%%time\n",
    "\n",
    "# Find most dominant topic\n",
    "def format_topics_sentences(ldamodel, corpus, data):\n",
    "    # Initialize a list to store data for each document\n",
    "    topics_data = []\n",
    "\n",
    "    # Get main topic in each document\n",
    "    for i, row in enumerate(ldamodel[corpus]):\n",
    "        row = sorted(row, key=lambda x: (x[1]), reverse=True)\n",
    "        # Get the Dominant topic, Percentage Contribution, and Keywords for each document\n",
    "        for j, (topic_num, prop_topic) in enumerate(row):\n",
    "            if j == 0:  # => dominant topic\n",
    "                wp = ldamodel.show_topic(topic_num)\n",
    "                topic_keywords = \", \".join([word for word, prop in wp])\n",
    "                document_data = {\n",
    "                    'Dominant_Topic': int(topic_num),\n",
    "                    'Perc_Contribution': round(prop_topic, 4),\n",
    "                    'Topic_Keywords': topic_keywords,\n",
    "                    'Text': data[i]\n",
    "                }\n",
    "                topics_data.append(document_data)\n",
    "\n",
    "    # Create a DataFrame from the list of dictionaries\n",
    "    sent_topics_df = pd.DataFrame(topics_data)\n",
    "\n",
    "    return sent_topics_df\n",
    "\n",
    "\n",
    "df_topic_sents_keywords = format_topics_sentences(lda_gen, corpus=law_vecs, data=law_docs)\n",
    "\n",
    "# Format\n",
    "df_dominant_topic = df_topic_sents_keywords.reset_index()\n",
    "df_dominant_topic.columns = ['Document_No', 'Dominant_Topic', 'Topic_Perc_Contrib', 'Keywords', 'Text']\n",
    "\n",
    "# Show\n",
    "df_dominant_topic.head(10)\n"
   ]
  },
  {
   "cell_type": "code",
   "execution_count": 262,
   "metadata": {},
   "outputs": [],
   "source": [
    "# Creating a document-term matrix\n",
    "\n",
    "# Number of documents\n",
    "num_docs = len(law_docs)\n",
    "\n",
    "# Number of topics\n",
    "num_topics = lda_gen.num_topics\n",
    "\n",
    "# Initialize a matrix filled with zeros\n",
    "doc_topic_matrix = np.zeros((num_docs, num_topics))\n",
    "\n",
    "# Fill the matrix with topic probabilities\n",
    "for doc_idx, doc in enumerate(law_vecs):\n",
    "    topic_probs = lda_gen.get_document_topics(doc, minimum_probability=0)\n",
    "    for topic_id, prob in topic_probs:\n",
    "        doc_topic_matrix[doc_idx][topic_id] = prob\n",
    "\n",
    "# doc_topic_matrix now contains the document-topic probability matrix."
   ]
  },
  {
   "cell_type": "code",
   "execution_count": 263,
   "metadata": {},
   "outputs": [],
   "source": [
    "# Convert to DataFrame\n",
    "df = pd.DataFrame(doc_topic_matrix)\n",
    "\n",
    "# Rename columns to reflect topic numbers\n",
    "df.columns = ['Topic_' + str(i+1) for i in range(lda_gen.num_topics)]\n",
    "\n",
    "# (Optional) Rename index to reflect document numbers\n",
    "df.index = [corpus.fileids()]\n",
    "\n",
    "# Get dominant topic for each document\n",
    "dominant_topic = df.loc[:, :].idxmax(axis=1)\n",
    "\n",
    "# Styling\n",
    "def color_green(val):\n",
    "    color = 'black'\n",
    "    if not isinstance(val, str):\n",
    "        if val > 0.1 and val < 1:\n",
    "            color = 'green' \n",
    "    return 'color: {col}'.format(col=color)\n",
    "\n",
    "def make_bold(val):\n",
    "    weight = 400\n",
    "    if not isinstance(val, str):\n",
    "        if val > 0.1 and val < 1:\n",
    "            weight = 700 \n",
    "    return 'font-weight: {weight}'.format(weight=weight)\n",
    "\n",
    "df['Dominant'] = dominant_topic\n",
    "# df.head(20).style.applymap(color_green).applymap(make_bold)"
   ]
  },
  {
   "cell_type": "code",
   "execution_count": 264,
   "metadata": {},
   "outputs": [
    {
     "data": {
      "text/html": [
       "<div>\n",
       "<style scoped>\n",
       "    .dataframe tbody tr th:only-of-type {\n",
       "        vertical-align: middle;\n",
       "    }\n",
       "\n",
       "    .dataframe tbody tr th {\n",
       "        vertical-align: top;\n",
       "    }\n",
       "\n",
       "    .dataframe thead th {\n",
       "        text-align: right;\n",
       "    }\n",
       "</style>\n",
       "<table border=\"1\" class=\"dataframe\">\n",
       "  <thead>\n",
       "    <tr style=\"text-align: right;\">\n",
       "      <th></th>\n",
       "      <th>Topic_1</th>\n",
       "      <th>Topic_2</th>\n",
       "      <th>Topic_3</th>\n",
       "      <th>Topic_4</th>\n",
       "      <th>Topic_5</th>\n",
       "      <th>Topic_6</th>\n",
       "      <th>Topic_7</th>\n",
       "      <th>Topic_8</th>\n",
       "      <th>Topic_9</th>\n",
       "      <th>Topic_10</th>\n",
       "      <th>Topic_11</th>\n",
       "      <th>Topic_12</th>\n",
       "      <th>Topic_13</th>\n",
       "      <th>Topic_14</th>\n",
       "      <th>Topic_15</th>\n",
       "      <th>Topic_16</th>\n",
       "      <th>Topic_17</th>\n",
       "      <th>Dominant</th>\n",
       "    </tr>\n",
       "  </thead>\n",
       "  <tbody>\n",
       "    <tr>\n",
       "      <th>1.txt</th>\n",
       "      <td>0.445431</td>\n",
       "      <td>0.000052</td>\n",
       "      <td>0.000052</td>\n",
       "      <td>0.000052</td>\n",
       "      <td>0.000052</td>\n",
       "      <td>0.238249</td>\n",
       "      <td>0.000052</td>\n",
       "      <td>0.181255</td>\n",
       "      <td>0.000052</td>\n",
       "      <td>0.000052</td>\n",
       "      <td>0.000052</td>\n",
       "      <td>0.098180</td>\n",
       "      <td>0.036263</td>\n",
       "      <td>0.000052</td>\n",
       "      <td>0.000052</td>\n",
       "      <td>0.000052</td>\n",
       "      <td>0.000052</td>\n",
       "      <td>Topic_1</td>\n",
       "    </tr>\n",
       "    <tr>\n",
       "      <th>10.txt</th>\n",
       "      <td>0.000049</td>\n",
       "      <td>0.000049</td>\n",
       "      <td>0.000049</td>\n",
       "      <td>0.000049</td>\n",
       "      <td>0.005170</td>\n",
       "      <td>0.000049</td>\n",
       "      <td>0.000049</td>\n",
       "      <td>0.000049</td>\n",
       "      <td>0.000049</td>\n",
       "      <td>0.000049</td>\n",
       "      <td>0.016094</td>\n",
       "      <td>0.000049</td>\n",
       "      <td>0.003915</td>\n",
       "      <td>0.014767</td>\n",
       "      <td>0.947714</td>\n",
       "      <td>0.011803</td>\n",
       "      <td>0.000049</td>\n",
       "      <td>Topic_15</td>\n",
       "    </tr>\n",
       "    <tr>\n",
       "      <th>100.txt</th>\n",
       "      <td>0.000062</td>\n",
       "      <td>0.000062</td>\n",
       "      <td>0.000062</td>\n",
       "      <td>0.964506</td>\n",
       "      <td>0.000062</td>\n",
       "      <td>0.000062</td>\n",
       "      <td>0.000062</td>\n",
       "      <td>0.000062</td>\n",
       "      <td>0.000062</td>\n",
       "      <td>0.004026</td>\n",
       "      <td>0.000062</td>\n",
       "      <td>0.000062</td>\n",
       "      <td>0.000062</td>\n",
       "      <td>0.030597</td>\n",
       "      <td>0.000062</td>\n",
       "      <td>0.000062</td>\n",
       "      <td>0.000062</td>\n",
       "      <td>Topic_4</td>\n",
       "    </tr>\n",
       "    <tr>\n",
       "      <th>1000.txt</th>\n",
       "      <td>0.089239</td>\n",
       "      <td>0.000198</td>\n",
       "      <td>0.000198</td>\n",
       "      <td>0.000198</td>\n",
       "      <td>0.000198</td>\n",
       "      <td>0.000198</td>\n",
       "      <td>0.000198</td>\n",
       "      <td>0.000198</td>\n",
       "      <td>0.297670</td>\n",
       "      <td>0.000198</td>\n",
       "      <td>0.040402</td>\n",
       "      <td>0.570113</td>\n",
       "      <td>0.000198</td>\n",
       "      <td>0.000198</td>\n",
       "      <td>0.000198</td>\n",
       "      <td>0.000198</td>\n",
       "      <td>0.000198</td>\n",
       "      <td>Topic_12</td>\n",
       "    </tr>\n",
       "    <tr>\n",
       "      <th>10000.txt</th>\n",
       "      <td>0.291969</td>\n",
       "      <td>0.077796</td>\n",
       "      <td>0.000094</td>\n",
       "      <td>0.000094</td>\n",
       "      <td>0.000094</td>\n",
       "      <td>0.000094</td>\n",
       "      <td>0.012161</td>\n",
       "      <td>0.104918</td>\n",
       "      <td>0.000094</td>\n",
       "      <td>0.402380</td>\n",
       "      <td>0.000094</td>\n",
       "      <td>0.057775</td>\n",
       "      <td>0.000094</td>\n",
       "      <td>0.052056</td>\n",
       "      <td>0.000094</td>\n",
       "      <td>0.000094</td>\n",
       "      <td>0.000094</td>\n",
       "      <td>Topic_10</td>\n",
       "    </tr>\n",
       "    <tr>\n",
       "      <th>...</th>\n",
       "      <td>...</td>\n",
       "      <td>...</td>\n",
       "      <td>...</td>\n",
       "      <td>...</td>\n",
       "      <td>...</td>\n",
       "      <td>...</td>\n",
       "      <td>...</td>\n",
       "      <td>...</td>\n",
       "      <td>...</td>\n",
       "      <td>...</td>\n",
       "      <td>...</td>\n",
       "      <td>...</td>\n",
       "      <td>...</td>\n",
       "      <td>...</td>\n",
       "      <td>...</td>\n",
       "      <td>...</td>\n",
       "      <td>...</td>\n",
       "      <td>...</td>\n",
       "    </tr>\n",
       "    <tr>\n",
       "      <th>9995.txt</th>\n",
       "      <td>0.000142</td>\n",
       "      <td>0.000142</td>\n",
       "      <td>0.000142</td>\n",
       "      <td>0.000142</td>\n",
       "      <td>0.000142</td>\n",
       "      <td>0.000142</td>\n",
       "      <td>0.000142</td>\n",
       "      <td>0.000142</td>\n",
       "      <td>0.065714</td>\n",
       "      <td>0.000142</td>\n",
       "      <td>0.000142</td>\n",
       "      <td>0.932153</td>\n",
       "      <td>0.000142</td>\n",
       "      <td>0.000142</td>\n",
       "      <td>0.000142</td>\n",
       "      <td>0.000142</td>\n",
       "      <td>0.000142</td>\n",
       "      <td>Topic_12</td>\n",
       "    </tr>\n",
       "    <tr>\n",
       "      <th>9996.txt</th>\n",
       "      <td>0.000267</td>\n",
       "      <td>0.000267</td>\n",
       "      <td>0.000267</td>\n",
       "      <td>0.000267</td>\n",
       "      <td>0.000267</td>\n",
       "      <td>0.000267</td>\n",
       "      <td>0.000267</td>\n",
       "      <td>0.070410</td>\n",
       "      <td>0.000267</td>\n",
       "      <td>0.770538</td>\n",
       "      <td>0.000267</td>\n",
       "      <td>0.000267</td>\n",
       "      <td>0.155316</td>\n",
       "      <td>0.000267</td>\n",
       "      <td>0.000267</td>\n",
       "      <td>0.000267</td>\n",
       "      <td>0.000267</td>\n",
       "      <td>Topic_10</td>\n",
       "    </tr>\n",
       "    <tr>\n",
       "      <th>9997.txt</th>\n",
       "      <td>0.000130</td>\n",
       "      <td>0.062935</td>\n",
       "      <td>0.707120</td>\n",
       "      <td>0.000130</td>\n",
       "      <td>0.023578</td>\n",
       "      <td>0.000130</td>\n",
       "      <td>0.000130</td>\n",
       "      <td>0.000130</td>\n",
       "      <td>0.000130</td>\n",
       "      <td>0.000130</td>\n",
       "      <td>0.000130</td>\n",
       "      <td>0.000130</td>\n",
       "      <td>0.000130</td>\n",
       "      <td>0.000130</td>\n",
       "      <td>0.000130</td>\n",
       "      <td>0.000130</td>\n",
       "      <td>0.204681</td>\n",
       "      <td>Topic_3</td>\n",
       "    </tr>\n",
       "    <tr>\n",
       "      <th>9998.txt</th>\n",
       "      <td>0.000069</td>\n",
       "      <td>0.000069</td>\n",
       "      <td>0.028417</td>\n",
       "      <td>0.000069</td>\n",
       "      <td>0.000069</td>\n",
       "      <td>0.517921</td>\n",
       "      <td>0.445432</td>\n",
       "      <td>0.000069</td>\n",
       "      <td>0.000069</td>\n",
       "      <td>0.007338</td>\n",
       "      <td>0.000069</td>\n",
       "      <td>0.000069</td>\n",
       "      <td>0.000069</td>\n",
       "      <td>0.000069</td>\n",
       "      <td>0.000069</td>\n",
       "      <td>0.000069</td>\n",
       "      <td>0.000069</td>\n",
       "      <td>Topic_6</td>\n",
       "    </tr>\n",
       "    <tr>\n",
       "      <th>9999.txt</th>\n",
       "      <td>0.000034</td>\n",
       "      <td>0.000034</td>\n",
       "      <td>0.037907</td>\n",
       "      <td>0.747770</td>\n",
       "      <td>0.007461</td>\n",
       "      <td>0.000034</td>\n",
       "      <td>0.000034</td>\n",
       "      <td>0.203753</td>\n",
       "      <td>0.000034</td>\n",
       "      <td>0.002703</td>\n",
       "      <td>0.000034</td>\n",
       "      <td>0.000034</td>\n",
       "      <td>0.000034</td>\n",
       "      <td>0.000034</td>\n",
       "      <td>0.000034</td>\n",
       "      <td>0.000034</td>\n",
       "      <td>0.000034</td>\n",
       "      <td>Topic_4</td>\n",
       "    </tr>\n",
       "  </tbody>\n",
       "</table>\n",
       "<p>15000 rows × 18 columns</p>\n",
       "</div>"
      ],
      "text/plain": [
       "            Topic_1   Topic_2   Topic_3   Topic_4   Topic_5   Topic_6  \\\n",
       "1.txt      0.445431  0.000052  0.000052  0.000052  0.000052  0.238249   \n",
       "10.txt     0.000049  0.000049  0.000049  0.000049  0.005170  0.000049   \n",
       "100.txt    0.000062  0.000062  0.000062  0.964506  0.000062  0.000062   \n",
       "1000.txt   0.089239  0.000198  0.000198  0.000198  0.000198  0.000198   \n",
       "10000.txt  0.291969  0.077796  0.000094  0.000094  0.000094  0.000094   \n",
       "...             ...       ...       ...       ...       ...       ...   \n",
       "9995.txt   0.000142  0.000142  0.000142  0.000142  0.000142  0.000142   \n",
       "9996.txt   0.000267  0.000267  0.000267  0.000267  0.000267  0.000267   \n",
       "9997.txt   0.000130  0.062935  0.707120  0.000130  0.023578  0.000130   \n",
       "9998.txt   0.000069  0.000069  0.028417  0.000069  0.000069  0.517921   \n",
       "9999.txt   0.000034  0.000034  0.037907  0.747770  0.007461  0.000034   \n",
       "\n",
       "            Topic_7   Topic_8   Topic_9  Topic_10  Topic_11  Topic_12  \\\n",
       "1.txt      0.000052  0.181255  0.000052  0.000052  0.000052  0.098180   \n",
       "10.txt     0.000049  0.000049  0.000049  0.000049  0.016094  0.000049   \n",
       "100.txt    0.000062  0.000062  0.000062  0.004026  0.000062  0.000062   \n",
       "1000.txt   0.000198  0.000198  0.297670  0.000198  0.040402  0.570113   \n",
       "10000.txt  0.012161  0.104918  0.000094  0.402380  0.000094  0.057775   \n",
       "...             ...       ...       ...       ...       ...       ...   \n",
       "9995.txt   0.000142  0.000142  0.065714  0.000142  0.000142  0.932153   \n",
       "9996.txt   0.000267  0.070410  0.000267  0.770538  0.000267  0.000267   \n",
       "9997.txt   0.000130  0.000130  0.000130  0.000130  0.000130  0.000130   \n",
       "9998.txt   0.445432  0.000069  0.000069  0.007338  0.000069  0.000069   \n",
       "9999.txt   0.000034  0.203753  0.000034  0.002703  0.000034  0.000034   \n",
       "\n",
       "           Topic_13  Topic_14  Topic_15  Topic_16  Topic_17  Dominant  \n",
       "1.txt      0.036263  0.000052  0.000052  0.000052  0.000052   Topic_1  \n",
       "10.txt     0.003915  0.014767  0.947714  0.011803  0.000049  Topic_15  \n",
       "100.txt    0.000062  0.030597  0.000062  0.000062  0.000062   Topic_4  \n",
       "1000.txt   0.000198  0.000198  0.000198  0.000198  0.000198  Topic_12  \n",
       "10000.txt  0.000094  0.052056  0.000094  0.000094  0.000094  Topic_10  \n",
       "...             ...       ...       ...       ...       ...       ...  \n",
       "9995.txt   0.000142  0.000142  0.000142  0.000142  0.000142  Topic_12  \n",
       "9996.txt   0.155316  0.000267  0.000267  0.000267  0.000267  Topic_10  \n",
       "9997.txt   0.000130  0.000130  0.000130  0.000130  0.204681   Topic_3  \n",
       "9998.txt   0.000069  0.000069  0.000069  0.000069  0.000069   Topic_6  \n",
       "9999.txt   0.000034  0.000034  0.000034  0.000034  0.000034   Topic_4  \n",
       "\n",
       "[15000 rows x 18 columns]"
      ]
     },
     "execution_count": 264,
     "metadata": {},
     "output_type": "execute_result"
    }
   ],
   "source": [
    "df"
   ]
  },
  {
   "cell_type": "markdown",
   "metadata": {},
   "source": [
    "- After creating the LDA gen model and the document-term matrix, use k-means to identify the clusters"
   ]
  },
  {
   "cell_type": "code",
   "execution_count": 265,
   "metadata": {},
   "outputs": [
    {
     "data": {
      "image/png": "[encoded data removed]",
      "text/plain": [
       "<Figure size 1000x500 with 1 Axes>"
      ]
     },
     "metadata": {},
     "output_type": "display_data"
    },
    {
     "data": {
      "image/png": "[encoded data removed]",
      "text/plain": [
       "<Figure size 1000x500 with 1 Axes>"
      ]
     },
     "metadata": {},
     "output_type": "display_data"
    }
   ],
   "source": [
    "# Using the Elbow Method to identify optimal number of clusters\n",
    "wcss = []  # Within-cluster sum of squares\n",
    "k_values = range(1, 30)  \n",
    "\n",
    "for k in k_values:\n",
    "    kmeans = KMeans(n_clusters=k, random_state=42)\n",
    "    kmeans.fit(doc_topic_matrix)\n",
    "    wcss.append(kmeans.inertia_)\n",
    "\n",
    "\n",
    "plt.figure(figsize=(10,5))\n",
    "plt.plot(k_values, wcss, 'o-')\n",
    "# Add a vertical line to show the optimum number of clusters \n",
    "plt.axvline(17, color='#F26457', linestyle=':')\n",
    "plt.title('Elbow Method')\n",
    "plt.xlabel('Number of clusters')\n",
    "plt.ylabel('WCSS')\n",
    "plt.show()\n",
    "\n",
    "# Using Silhouette Score\n",
    "sil_scores = []\n",
    "\n",
    "for k in range(2, 30):  # Silhouette Score is not defined for a single cluster\n",
    "    kmeans = KMeans(n_clusters=k, random_state=42)\n",
    "    cluster_labels = kmeans.fit_predict(doc_topic_matrix)\n",
    "    silhouette_avg = silhouette_score(doc_topic_matrix, cluster_labels)\n",
    "    sil_scores.append(silhouette_avg)\n",
    "\n",
    "plt.figure(figsize=(10,5))\n",
    "plt.plot(range(2, 30), sil_scores, 'o-')\n",
    "plt.axvline(17, color='#F26457', linestyle=':')\n",
    "plt.title('Silhouette Score Method')\n",
    "plt.xlabel('Number of clusters')\n",
    "plt.ylabel('Silhouette Score')\n",
    "plt.show()\n"
   ]
  },
  {
   "cell_type": "code",
   "execution_count": 266,
   "metadata": {},
   "outputs": [
    {
     "data": {
      "text/html": [
       "<style type=\"text/css\">\n",
       "#T_644af_row0_col0, #T_644af_row0_col5, #T_644af_row0_col7, #T_644af_row1_col14, #T_644af_row2_col3, #T_644af_row3_col8, #T_644af_row3_col11, #T_644af_row4_col0, #T_644af_row4_col7, #T_644af_row4_col9, #T_644af_row5_col5, #T_644af_row5_col7, #T_644af_row5_col11, #T_644af_row6_col2, #T_644af_row6_col7, #T_644af_row7_col2, #T_644af_row7_col5, #T_644af_row7_col11, #T_644af_row8_col8, #T_644af_row8_col13, #T_644af_row8_col14, #T_644af_row9_col0, #T_644af_row9_col5, #T_644af_row9_col8, #T_644af_row9_col12, #T_644af_row9_col14, #T_644af_row10_col5, #T_644af_row10_col12, #T_644af_row11_col4, #T_644af_row11_col10, #T_644af_row11_col16, #T_644af_row12_col6, #T_644af_row12_col7, #T_644af_row13_col5, #T_644af_row13_col12, #T_644af_row13_col14, #T_644af_row13_col16, #T_644af_row14_col7, #T_644af_row14_col11, #T_644af_row14_col12, #T_644af_row15_col1, #T_644af_row15_col4, #T_644af_row15_col12, #T_644af_row15_col14, #T_644af_row16_col0, #T_644af_row16_col5, #T_644af_row16_col16, #T_644af_row17_col2, #T_644af_row17_col7, #T_644af_row17_col13, #T_644af_row18_col0, #T_644af_row18_col7, #T_644af_row19_col8 {\n",
       "  color: green;\n",
       "  font-weight: 700;\n",
       "}\n",
       "#T_644af_row0_col1, #T_644af_row0_col2, #T_644af_row0_col3, #T_644af_row0_col4, #T_644af_row0_col6, #T_644af_row0_col8, #T_644af_row0_col9, #T_644af_row0_col10, #T_644af_row0_col11, #T_644af_row0_col12, #T_644af_row0_col13, #T_644af_row0_col14, #T_644af_row0_col15, #T_644af_row0_col16, #T_644af_row0_col17, #T_644af_row0_col18, #T_644af_row1_col0, #T_644af_row1_col1, #T_644af_row1_col2, #T_644af_row1_col3, #T_644af_row1_col4, #T_644af_row1_col5, #T_644af_row1_col6, #T_644af_row1_col7, #T_644af_row1_col8, #T_644af_row1_col9, #T_644af_row1_col10, #T_644af_row1_col11, #T_644af_row1_col12, #T_644af_row1_col13, #T_644af_row1_col15, #T_644af_row1_col16, #T_644af_row1_col17, #T_644af_row1_col18, #T_644af_row2_col0, #T_644af_row2_col1, #T_644af_row2_col2, #T_644af_row2_col4, #T_644af_row2_col5, #T_644af_row2_col6, #T_644af_row2_col7, #T_644af_row2_col8, #T_644af_row2_col9, #T_644af_row2_col10, #T_644af_row2_col11, #T_644af_row2_col12, #T_644af_row2_col13, #T_644af_row2_col14, #T_644af_row2_col15, #T_644af_row2_col16, #T_644af_row2_col17, #T_644af_row2_col18, #T_644af_row3_col0, #T_644af_row3_col1, #T_644af_row3_col2, #T_644af_row3_col3, #T_644af_row3_col4, #T_644af_row3_col5, #T_644af_row3_col6, #T_644af_row3_col7, #T_644af_row3_col9, #T_644af_row3_col10, #T_644af_row3_col12, #T_644af_row3_col13, #T_644af_row3_col14, #T_644af_row3_col15, #T_644af_row3_col16, #T_644af_row3_col17, #T_644af_row3_col18, #T_644af_row4_col1, #T_644af_row4_col2, #T_644af_row4_col3, #T_644af_row4_col4, #T_644af_row4_col5, #T_644af_row4_col6, #T_644af_row4_col8, #T_644af_row4_col10, #T_644af_row4_col11, #T_644af_row4_col12, #T_644af_row4_col13, #T_644af_row4_col14, #T_644af_row4_col15, #T_644af_row4_col16, #T_644af_row4_col17, #T_644af_row4_col18, #T_644af_row5_col0, #T_644af_row5_col1, #T_644af_row5_col2, #T_644af_row5_col3, #T_644af_row5_col4, #T_644af_row5_col6, #T_644af_row5_col8, #T_644af_row5_col9, #T_644af_row5_col10, #T_644af_row5_col12, #T_644af_row5_col13, #T_644af_row5_col14, #T_644af_row5_col15, #T_644af_row5_col16, #T_644af_row5_col17, #T_644af_row5_col18, #T_644af_row6_col0, #T_644af_row6_col1, #T_644af_row6_col3, #T_644af_row6_col4, #T_644af_row6_col5, #T_644af_row6_col6, #T_644af_row6_col8, #T_644af_row6_col9, #T_644af_row6_col10, #T_644af_row6_col11, #T_644af_row6_col12, #T_644af_row6_col13, #T_644af_row6_col14, #T_644af_row6_col15, #T_644af_row6_col16, #T_644af_row6_col17, #T_644af_row6_col18, #T_644af_row7_col0, #T_644af_row7_col1, #T_644af_row7_col3, #T_644af_row7_col4, #T_644af_row7_col6, #T_644af_row7_col7, #T_644af_row7_col8, #T_644af_row7_col9, #T_644af_row7_col10, #T_644af_row7_col12, #T_644af_row7_col13, #T_644af_row7_col14, #T_644af_row7_col15, #T_644af_row7_col16, #T_644af_row7_col17, #T_644af_row7_col18, #T_644af_row8_col0, #T_644af_row8_col1, #T_644af_row8_col2, #T_644af_row8_col3, #T_644af_row8_col4, #T_644af_row8_col5, #T_644af_row8_col6, #T_644af_row8_col7, #T_644af_row8_col9, #T_644af_row8_col10, #T_644af_row8_col11, #T_644af_row8_col12, #T_644af_row8_col15, #T_644af_row8_col16, #T_644af_row8_col17, #T_644af_row8_col18, #T_644af_row9_col1, #T_644af_row9_col2, #T_644af_row9_col3, #T_644af_row9_col4, #T_644af_row9_col6, #T_644af_row9_col7, #T_644af_row9_col9, #T_644af_row9_col10, #T_644af_row9_col11, #T_644af_row9_col13, #T_644af_row9_col15, #T_644af_row9_col16, #T_644af_row9_col17, #T_644af_row9_col18, #T_644af_row10_col0, #T_644af_row10_col1, #T_644af_row10_col2, #T_644af_row10_col3, #T_644af_row10_col4, #T_644af_row10_col6, #T_644af_row10_col7, #T_644af_row10_col8, #T_644af_row10_col9, #T_644af_row10_col10, #T_644af_row10_col11, #T_644af_row10_col13, #T_644af_row10_col14, #T_644af_row10_col15, #T_644af_row10_col16, #T_644af_row10_col17, #T_644af_row10_col18, #T_644af_row11_col0, #T_644af_row11_col1, #T_644af_row11_col2, #T_644af_row11_col3, #T_644af_row11_col5, #T_644af_row11_col6, #T_644af_row11_col7, #T_644af_row11_col8, #T_644af_row11_col9, #T_644af_row11_col11, #T_644af_row11_col12, #T_644af_row11_col13, #T_644af_row11_col14, #T_644af_row11_col15, #T_644af_row11_col17, #T_644af_row11_col18, #T_644af_row12_col0, #T_644af_row12_col1, #T_644af_row12_col2, #T_644af_row12_col3, #T_644af_row12_col4, #T_644af_row12_col5, #T_644af_row12_col8, #T_644af_row12_col9, #T_644af_row12_col10, #T_644af_row12_col11, #T_644af_row12_col12, #T_644af_row12_col13, #T_644af_row12_col14, #T_644af_row12_col15, #T_644af_row12_col16, #T_644af_row12_col17, #T_644af_row12_col18, #T_644af_row13_col0, #T_644af_row13_col1, #T_644af_row13_col2, #T_644af_row13_col3, #T_644af_row13_col4, #T_644af_row13_col6, #T_644af_row13_col7, #T_644af_row13_col8, #T_644af_row13_col9, #T_644af_row13_col10, #T_644af_row13_col11, #T_644af_row13_col13, #T_644af_row13_col15, #T_644af_row13_col17, #T_644af_row13_col18, #T_644af_row14_col0, #T_644af_row14_col1, #T_644af_row14_col2, #T_644af_row14_col3, #T_644af_row14_col4, #T_644af_row14_col5, #T_644af_row14_col6, #T_644af_row14_col8, #T_644af_row14_col9, #T_644af_row14_col10, #T_644af_row14_col13, #T_644af_row14_col14, #T_644af_row14_col15, #T_644af_row14_col16, #T_644af_row14_col17, #T_644af_row14_col18, #T_644af_row15_col0, #T_644af_row15_col2, #T_644af_row15_col3, #T_644af_row15_col5, #T_644af_row15_col6, #T_644af_row15_col7, #T_644af_row15_col8, #T_644af_row15_col9, #T_644af_row15_col10, #T_644af_row15_col11, #T_644af_row15_col13, #T_644af_row15_col15, #T_644af_row15_col16, #T_644af_row15_col17, #T_644af_row15_col18, #T_644af_row16_col1, #T_644af_row16_col2, #T_644af_row16_col3, #T_644af_row16_col4, #T_644af_row16_col6, #T_644af_row16_col7, #T_644af_row16_col8, #T_644af_row16_col9, #T_644af_row16_col10, #T_644af_row16_col11, #T_644af_row16_col12, #T_644af_row16_col13, #T_644af_row16_col14, #T_644af_row16_col15, #T_644af_row16_col17, #T_644af_row16_col18, #T_644af_row17_col0, #T_644af_row17_col1, #T_644af_row17_col3, #T_644af_row17_col4, #T_644af_row17_col5, #T_644af_row17_col6, #T_644af_row17_col8, #T_644af_row17_col9, #T_644af_row17_col10, #T_644af_row17_col11, #T_644af_row17_col12, #T_644af_row17_col14, #T_644af_row17_col15, #T_644af_row17_col16, #T_644af_row17_col17, #T_644af_row17_col18, #T_644af_row18_col1, #T_644af_row18_col2, #T_644af_row18_col3, #T_644af_row18_col4, #T_644af_row18_col5, #T_644af_row18_col6, #T_644af_row18_col8, #T_644af_row18_col9, #T_644af_row18_col10, #T_644af_row18_col11, #T_644af_row18_col12, #T_644af_row18_col13, #T_644af_row18_col14, #T_644af_row18_col15, #T_644af_row18_col16, #T_644af_row18_col17, #T_644af_row18_col18, #T_644af_row19_col0, #T_644af_row19_col1, #T_644af_row19_col2, #T_644af_row19_col3, #T_644af_row19_col4, #T_644af_row19_col5, #T_644af_row19_col6, #T_644af_row19_col7, #T_644af_row19_col9, #T_644af_row19_col10, #T_644af_row19_col11, #T_644af_row19_col12, #T_644af_row19_col13, #T_644af_row19_col14, #T_644af_row19_col15, #T_644af_row19_col16, #T_644af_row19_col17, #T_644af_row19_col18 {\n",
       "  color: black;\n",
       "  font-weight: 400;\n",
       "}\n",
       "</style>\n",
       "<table id=\"T_644af\">\n",
       "  <thead>\n",
       "    <tr>\n",
       "      <th class=\"blank level0\" >&nbsp;</th>\n",
       "      <th id=\"T_644af_level0_col0\" class=\"col_heading level0 col0\" >Topic_1</th>\n",
       "      <th id=\"T_644af_level0_col1\" class=\"col_heading level0 col1\" >Topic_2</th>\n",
       "      <th id=\"T_644af_level0_col2\" class=\"col_heading level0 col2\" >Topic_3</th>\n",
       "      <th id=\"T_644af_level0_col3\" class=\"col_heading level0 col3\" >Topic_4</th>\n",
       "      <th id=\"T_644af_level0_col4\" class=\"col_heading level0 col4\" >Topic_5</th>\n",
       "      <th id=\"T_644af_level0_col5\" class=\"col_heading level0 col5\" >Topic_6</th>\n",
       "      <th id=\"T_644af_level0_col6\" class=\"col_heading level0 col6\" >Topic_7</th>\n",
       "      <th id=\"T_644af_level0_col7\" class=\"col_heading level0 col7\" >Topic_8</th>\n",
       "      <th id=\"T_644af_level0_col8\" class=\"col_heading level0 col8\" >Topic_9</th>\n",
       "      <th id=\"T_644af_level0_col9\" class=\"col_heading level0 col9\" >Topic_10</th>\n",
       "      <th id=\"T_644af_level0_col10\" class=\"col_heading level0 col10\" >Topic_11</th>\n",
       "      <th id=\"T_644af_level0_col11\" class=\"col_heading level0 col11\" >Topic_12</th>\n",
       "      <th id=\"T_644af_level0_col12\" class=\"col_heading level0 col12\" >Topic_13</th>\n",
       "      <th id=\"T_644af_level0_col13\" class=\"col_heading level0 col13\" >Topic_14</th>\n",
       "      <th id=\"T_644af_level0_col14\" class=\"col_heading level0 col14\" >Topic_15</th>\n",
       "      <th id=\"T_644af_level0_col15\" class=\"col_heading level0 col15\" >Topic_16</th>\n",
       "      <th id=\"T_644af_level0_col16\" class=\"col_heading level0 col16\" >Topic_17</th>\n",
       "      <th id=\"T_644af_level0_col17\" class=\"col_heading level0 col17\" >Dominant</th>\n",
       "      <th id=\"T_644af_level0_col18\" class=\"col_heading level0 col18\" >Cluster</th>\n",
       "    </tr>\n",
       "  </thead>\n",
       "  <tbody>\n",
       "    <tr>\n",
       "      <th id=\"T_644af_level0_row0\" class=\"row_heading level0 row0\" >1.txt</th>\n",
       "      <td id=\"T_644af_row0_col0\" class=\"data row0 col0\" >0.445431</td>\n",
       "      <td id=\"T_644af_row0_col1\" class=\"data row0 col1\" >0.000052</td>\n",
       "      <td id=\"T_644af_row0_col2\" class=\"data row0 col2\" >0.000052</td>\n",
       "      <td id=\"T_644af_row0_col3\" class=\"data row0 col3\" >0.000052</td>\n",
       "      <td id=\"T_644af_row0_col4\" class=\"data row0 col4\" >0.000052</td>\n",
       "      <td id=\"T_644af_row0_col5\" class=\"data row0 col5\" >0.238249</td>\n",
       "      <td id=\"T_644af_row0_col6\" class=\"data row0 col6\" >0.000052</td>\n",
       "      <td id=\"T_644af_row0_col7\" class=\"data row0 col7\" >0.181255</td>\n",
       "      <td id=\"T_644af_row0_col8\" class=\"data row0 col8\" >0.000052</td>\n",
       "      <td id=\"T_644af_row0_col9\" class=\"data row0 col9\" >0.000052</td>\n",
       "      <td id=\"T_644af_row0_col10\" class=\"data row0 col10\" >0.000052</td>\n",
       "      <td id=\"T_644af_row0_col11\" class=\"data row0 col11\" >0.098180</td>\n",
       "      <td id=\"T_644af_row0_col12\" class=\"data row0 col12\" >0.036263</td>\n",
       "      <td id=\"T_644af_row0_col13\" class=\"data row0 col13\" >0.000052</td>\n",
       "      <td id=\"T_644af_row0_col14\" class=\"data row0 col14\" >0.000052</td>\n",
       "      <td id=\"T_644af_row0_col15\" class=\"data row0 col15\" >0.000052</td>\n",
       "      <td id=\"T_644af_row0_col16\" class=\"data row0 col16\" >0.000052</td>\n",
       "      <td id=\"T_644af_row0_col17\" class=\"data row0 col17\" >Topic_1</td>\n",
       "      <td id=\"T_644af_row0_col18\" class=\"data row0 col18\" >14</td>\n",
       "    </tr>\n",
       "    <tr>\n",
       "      <th id=\"T_644af_level0_row1\" class=\"row_heading level0 row1\" >10.txt</th>\n",
       "      <td id=\"T_644af_row1_col0\" class=\"data row1 col0\" >0.000049</td>\n",
       "      <td id=\"T_644af_row1_col1\" class=\"data row1 col1\" >0.000049</td>\n",
       "      <td id=\"T_644af_row1_col2\" class=\"data row1 col2\" >0.000049</td>\n",
       "      <td id=\"T_644af_row1_col3\" class=\"data row1 col3\" >0.000049</td>\n",
       "      <td id=\"T_644af_row1_col4\" class=\"data row1 col4\" >0.005170</td>\n",
       "      <td id=\"T_644af_row1_col5\" class=\"data row1 col5\" >0.000049</td>\n",
       "      <td id=\"T_644af_row1_col6\" class=\"data row1 col6\" >0.000049</td>\n",
       "      <td id=\"T_644af_row1_col7\" class=\"data row1 col7\" >0.000049</td>\n",
       "      <td id=\"T_644af_row1_col8\" class=\"data row1 col8\" >0.000049</td>\n",
       "      <td id=\"T_644af_row1_col9\" class=\"data row1 col9\" >0.000049</td>\n",
       "      <td id=\"T_644af_row1_col10\" class=\"data row1 col10\" >0.016094</td>\n",
       "      <td id=\"T_644af_row1_col11\" class=\"data row1 col11\" >0.000049</td>\n",
       "      <td id=\"T_644af_row1_col12\" class=\"data row1 col12\" >0.003915</td>\n",
       "      <td id=\"T_644af_row1_col13\" class=\"data row1 col13\" >0.014767</td>\n",
       "      <td id=\"T_644af_row1_col14\" class=\"data row1 col14\" >0.947714</td>\n",
       "      <td id=\"T_644af_row1_col15\" class=\"data row1 col15\" >0.011803</td>\n",
       "      <td id=\"T_644af_row1_col16\" class=\"data row1 col16\" >0.000049</td>\n",
       "      <td id=\"T_644af_row1_col17\" class=\"data row1 col17\" >Topic_15</td>\n",
       "      <td id=\"T_644af_row1_col18\" class=\"data row1 col18\" >2</td>\n",
       "    </tr>\n",
       "    <tr>\n",
       "      <th id=\"T_644af_level0_row2\" class=\"row_heading level0 row2\" >100.txt</th>\n",
       "      <td id=\"T_644af_row2_col0\" class=\"data row2 col0\" >0.000062</td>\n",
       "      <td id=\"T_644af_row2_col1\" class=\"data row2 col1\" >0.000062</td>\n",
       "      <td id=\"T_644af_row2_col2\" class=\"data row2 col2\" >0.000062</td>\n",
       "      <td id=\"T_644af_row2_col3\" class=\"data row2 col3\" >0.964506</td>\n",
       "      <td id=\"T_644af_row2_col4\" class=\"data row2 col4\" >0.000062</td>\n",
       "      <td id=\"T_644af_row2_col5\" class=\"data row2 col5\" >0.000062</td>\n",
       "      <td id=\"T_644af_row2_col6\" class=\"data row2 col6\" >0.000062</td>\n",
       "      <td id=\"T_644af_row2_col7\" class=\"data row2 col7\" >0.000062</td>\n",
       "      <td id=\"T_644af_row2_col8\" class=\"data row2 col8\" >0.000062</td>\n",
       "      <td id=\"T_644af_row2_col9\" class=\"data row2 col9\" >0.004026</td>\n",
       "      <td id=\"T_644af_row2_col10\" class=\"data row2 col10\" >0.000062</td>\n",
       "      <td id=\"T_644af_row2_col11\" class=\"data row2 col11\" >0.000062</td>\n",
       "      <td id=\"T_644af_row2_col12\" class=\"data row2 col12\" >0.000062</td>\n",
       "      <td id=\"T_644af_row2_col13\" class=\"data row2 col13\" >0.030597</td>\n",
       "      <td id=\"T_644af_row2_col14\" class=\"data row2 col14\" >0.000062</td>\n",
       "      <td id=\"T_644af_row2_col15\" class=\"data row2 col15\" >0.000062</td>\n",
       "      <td id=\"T_644af_row2_col16\" class=\"data row2 col16\" >0.000062</td>\n",
       "      <td id=\"T_644af_row2_col17\" class=\"data row2 col17\" >Topic_4</td>\n",
       "      <td id=\"T_644af_row2_col18\" class=\"data row2 col18\" >16</td>\n",
       "    </tr>\n",
       "    <tr>\n",
       "      <th id=\"T_644af_level0_row3\" class=\"row_heading level0 row3\" >1000.txt</th>\n",
       "      <td id=\"T_644af_row3_col0\" class=\"data row3 col0\" >0.089239</td>\n",
       "      <td id=\"T_644af_row3_col1\" class=\"data row3 col1\" >0.000198</td>\n",
       "      <td id=\"T_644af_row3_col2\" class=\"data row3 col2\" >0.000198</td>\n",
       "      <td id=\"T_644af_row3_col3\" class=\"data row3 col3\" >0.000198</td>\n",
       "      <td id=\"T_644af_row3_col4\" class=\"data row3 col4\" >0.000198</td>\n",
       "      <td id=\"T_644af_row3_col5\" class=\"data row3 col5\" >0.000198</td>\n",
       "      <td id=\"T_644af_row3_col6\" class=\"data row3 col6\" >0.000198</td>\n",
       "      <td id=\"T_644af_row3_col7\" class=\"data row3 col7\" >0.000198</td>\n",
       "      <td id=\"T_644af_row3_col8\" class=\"data row3 col8\" >0.297670</td>\n",
       "      <td id=\"T_644af_row3_col9\" class=\"data row3 col9\" >0.000198</td>\n",
       "      <td id=\"T_644af_row3_col10\" class=\"data row3 col10\" >0.040402</td>\n",
       "      <td id=\"T_644af_row3_col11\" class=\"data row3 col11\" >0.570113</td>\n",
       "      <td id=\"T_644af_row3_col12\" class=\"data row3 col12\" >0.000198</td>\n",
       "      <td id=\"T_644af_row3_col13\" class=\"data row3 col13\" >0.000198</td>\n",
       "      <td id=\"T_644af_row3_col14\" class=\"data row3 col14\" >0.000198</td>\n",
       "      <td id=\"T_644af_row3_col15\" class=\"data row3 col15\" >0.000198</td>\n",
       "      <td id=\"T_644af_row3_col16\" class=\"data row3 col16\" >0.000198</td>\n",
       "      <td id=\"T_644af_row3_col17\" class=\"data row3 col17\" >Topic_12</td>\n",
       "      <td id=\"T_644af_row3_col18\" class=\"data row3 col18\" >4</td>\n",
       "    </tr>\n",
       "    <tr>\n",
       "      <th id=\"T_644af_level0_row4\" class=\"row_heading level0 row4\" >10000.txt</th>\n",
       "      <td id=\"T_644af_row4_col0\" class=\"data row4 col0\" >0.291969</td>\n",
       "      <td id=\"T_644af_row4_col1\" class=\"data row4 col1\" >0.077796</td>\n",
       "      <td id=\"T_644af_row4_col2\" class=\"data row4 col2\" >0.000094</td>\n",
       "      <td id=\"T_644af_row4_col3\" class=\"data row4 col3\" >0.000094</td>\n",
       "      <td id=\"T_644af_row4_col4\" class=\"data row4 col4\" >0.000094</td>\n",
       "      <td id=\"T_644af_row4_col5\" class=\"data row4 col5\" >0.000094</td>\n",
       "      <td id=\"T_644af_row4_col6\" class=\"data row4 col6\" >0.012161</td>\n",
       "      <td id=\"T_644af_row4_col7\" class=\"data row4 col7\" >0.104918</td>\n",
       "      <td id=\"T_644af_row4_col8\" class=\"data row4 col8\" >0.000094</td>\n",
       "      <td id=\"T_644af_row4_col9\" class=\"data row4 col9\" >0.402380</td>\n",
       "      <td id=\"T_644af_row4_col10\" class=\"data row4 col10\" >0.000094</td>\n",
       "      <td id=\"T_644af_row4_col11\" class=\"data row4 col11\" >0.057775</td>\n",
       "      <td id=\"T_644af_row4_col12\" class=\"data row4 col12\" >0.000094</td>\n",
       "      <td id=\"T_644af_row4_col13\" class=\"data row4 col13\" >0.052056</td>\n",
       "      <td id=\"T_644af_row4_col14\" class=\"data row4 col14\" >0.000094</td>\n",
       "      <td id=\"T_644af_row4_col15\" class=\"data row4 col15\" >0.000094</td>\n",
       "      <td id=\"T_644af_row4_col16\" class=\"data row4 col16\" >0.000094</td>\n",
       "      <td id=\"T_644af_row4_col17\" class=\"data row4 col17\" >Topic_10</td>\n",
       "      <td id=\"T_644af_row4_col18\" class=\"data row4 col18\" >15</td>\n",
       "    </tr>\n",
       "    <tr>\n",
       "      <th id=\"T_644af_level0_row5\" class=\"row_heading level0 row5\" >10001.txt</th>\n",
       "      <td id=\"T_644af_row5_col0\" class=\"data row5 col0\" >0.000095</td>\n",
       "      <td id=\"T_644af_row5_col1\" class=\"data row5 col1\" >0.000095</td>\n",
       "      <td id=\"T_644af_row5_col2\" class=\"data row5 col2\" >0.000095</td>\n",
       "      <td id=\"T_644af_row5_col3\" class=\"data row5 col3\" >0.000095</td>\n",
       "      <td id=\"T_644af_row5_col4\" class=\"data row5 col4\" >0.000095</td>\n",
       "      <td id=\"T_644af_row5_col5\" class=\"data row5 col5\" >0.213064</td>\n",
       "      <td id=\"T_644af_row5_col6\" class=\"data row5 col6\" >0.000095</td>\n",
       "      <td id=\"T_644af_row5_col7\" class=\"data row5 col7\" >0.249309</td>\n",
       "      <td id=\"T_644af_row5_col8\" class=\"data row5 col8\" >0.000095</td>\n",
       "      <td id=\"T_644af_row5_col9\" class=\"data row5 col9\" >0.000095</td>\n",
       "      <td id=\"T_644af_row5_col10\" class=\"data row5 col10\" >0.000095</td>\n",
       "      <td id=\"T_644af_row5_col11\" class=\"data row5 col11\" >0.478642</td>\n",
       "      <td id=\"T_644af_row5_col12\" class=\"data row5 col12\" >0.057745</td>\n",
       "      <td id=\"T_644af_row5_col13\" class=\"data row5 col13\" >0.000095</td>\n",
       "      <td id=\"T_644af_row5_col14\" class=\"data row5 col14\" >0.000095</td>\n",
       "      <td id=\"T_644af_row5_col15\" class=\"data row5 col15\" >0.000095</td>\n",
       "      <td id=\"T_644af_row5_col16\" class=\"data row5 col16\" >0.000095</td>\n",
       "      <td id=\"T_644af_row5_col17\" class=\"data row5 col17\" >Topic_12</td>\n",
       "      <td id=\"T_644af_row5_col18\" class=\"data row5 col18\" >4</td>\n",
       "    </tr>\n",
       "    <tr>\n",
       "      <th id=\"T_644af_level0_row6\" class=\"row_heading level0 row6\" >10002.txt</th>\n",
       "      <td id=\"T_644af_row6_col0\" class=\"data row6 col0\" >0.000115</td>\n",
       "      <td id=\"T_644af_row6_col1\" class=\"data row6 col1\" >0.000115</td>\n",
       "      <td id=\"T_644af_row6_col2\" class=\"data row6 col2\" >0.820592</td>\n",
       "      <td id=\"T_644af_row6_col3\" class=\"data row6 col3\" >0.008063</td>\n",
       "      <td id=\"T_644af_row6_col4\" class=\"data row6 col4\" >0.009540</td>\n",
       "      <td id=\"T_644af_row6_col5\" class=\"data row6 col5\" >0.000115</td>\n",
       "      <td id=\"T_644af_row6_col6\" class=\"data row6 col6\" >0.000115</td>\n",
       "      <td id=\"T_644af_row6_col7\" class=\"data row6 col7\" >0.129961</td>\n",
       "      <td id=\"T_644af_row6_col8\" class=\"data row6 col8\" >0.000115</td>\n",
       "      <td id=\"T_644af_row6_col9\" class=\"data row6 col9\" >0.000115</td>\n",
       "      <td id=\"T_644af_row6_col10\" class=\"data row6 col10\" >0.000115</td>\n",
       "      <td id=\"T_644af_row6_col11\" class=\"data row6 col11\" >0.000115</td>\n",
       "      <td id=\"T_644af_row6_col12\" class=\"data row6 col12\" >0.030460</td>\n",
       "      <td id=\"T_644af_row6_col13\" class=\"data row6 col13\" >0.000115</td>\n",
       "      <td id=\"T_644af_row6_col14\" class=\"data row6 col14\" >0.000115</td>\n",
       "      <td id=\"T_644af_row6_col15\" class=\"data row6 col15\" >0.000115</td>\n",
       "      <td id=\"T_644af_row6_col16\" class=\"data row6 col16\" >0.000115</td>\n",
       "      <td id=\"T_644af_row6_col17\" class=\"data row6 col17\" >Topic_3</td>\n",
       "      <td id=\"T_644af_row6_col18\" class=\"data row6 col18\" >7</td>\n",
       "    </tr>\n",
       "    <tr>\n",
       "      <th id=\"T_644af_level0_row7\" class=\"row_heading level0 row7\" >10003.txt</th>\n",
       "      <td id=\"T_644af_row7_col0\" class=\"data row7 col0\" >0.000079</td>\n",
       "      <td id=\"T_644af_row7_col1\" class=\"data row7 col1\" >0.000079</td>\n",
       "      <td id=\"T_644af_row7_col2\" class=\"data row7 col2\" >0.310025</td>\n",
       "      <td id=\"T_644af_row7_col3\" class=\"data row7 col3\" >0.000079</td>\n",
       "      <td id=\"T_644af_row7_col4\" class=\"data row7 col4\" >0.000079</td>\n",
       "      <td id=\"T_644af_row7_col5\" class=\"data row7 col5\" >0.138607</td>\n",
       "      <td id=\"T_644af_row7_col6\" class=\"data row7 col6\" >0.000079</td>\n",
       "      <td id=\"T_644af_row7_col7\" class=\"data row7 col7\" >0.087628</td>\n",
       "      <td id=\"T_644af_row7_col8\" class=\"data row7 col8\" >0.000079</td>\n",
       "      <td id=\"T_644af_row7_col9\" class=\"data row7 col9\" >0.000079</td>\n",
       "      <td id=\"T_644af_row7_col10\" class=\"data row7 col10\" >0.000079</td>\n",
       "      <td id=\"T_644af_row7_col11\" class=\"data row7 col11\" >0.458950</td>\n",
       "      <td id=\"T_644af_row7_col12\" class=\"data row7 col12\" >0.000079</td>\n",
       "      <td id=\"T_644af_row7_col13\" class=\"data row7 col13\" >0.003841</td>\n",
       "      <td id=\"T_644af_row7_col14\" class=\"data row7 col14\" >0.000079</td>\n",
       "      <td id=\"T_644af_row7_col15\" class=\"data row7 col15\" >0.000079</td>\n",
       "      <td id=\"T_644af_row7_col16\" class=\"data row7 col16\" >0.000079</td>\n",
       "      <td id=\"T_644af_row7_col17\" class=\"data row7 col17\" >Topic_12</td>\n",
       "      <td id=\"T_644af_row7_col18\" class=\"data row7 col18\" >4</td>\n",
       "    </tr>\n",
       "    <tr>\n",
       "      <th id=\"T_644af_level0_row8\" class=\"row_heading level0 row8\" >10004.txt</th>\n",
       "      <td id=\"T_644af_row8_col0\" class=\"data row8 col0\" >0.000016</td>\n",
       "      <td id=\"T_644af_row8_col1\" class=\"data row8 col1\" >0.000016</td>\n",
       "      <td id=\"T_644af_row8_col2\" class=\"data row8 col2\" >0.000016</td>\n",
       "      <td id=\"T_644af_row8_col3\" class=\"data row8 col3\" >0.001176</td>\n",
       "      <td id=\"T_644af_row8_col4\" class=\"data row8 col4\" >0.000016</td>\n",
       "      <td id=\"T_644af_row8_col5\" class=\"data row8 col5\" >0.008632</td>\n",
       "      <td id=\"T_644af_row8_col6\" class=\"data row8 col6\" >0.014312</td>\n",
       "      <td id=\"T_644af_row8_col7\" class=\"data row8 col7\" >0.000016</td>\n",
       "      <td id=\"T_644af_row8_col8\" class=\"data row8 col8\" >0.698883</td>\n",
       "      <td id=\"T_644af_row8_col9\" class=\"data row8 col9\" >0.000016</td>\n",
       "      <td id=\"T_644af_row8_col10\" class=\"data row8 col10\" >0.000016</td>\n",
       "      <td id=\"T_644af_row8_col11\" class=\"data row8 col11\" >0.000016</td>\n",
       "      <td id=\"T_644af_row8_col12\" class=\"data row8 col12\" >0.000016</td>\n",
       "      <td id=\"T_644af_row8_col13\" class=\"data row8 col13\" >0.160922</td>\n",
       "      <td id=\"T_644af_row8_col14\" class=\"data row8 col14\" >0.115895</td>\n",
       "      <td id=\"T_644af_row8_col15\" class=\"data row8 col15\" >0.000016</td>\n",
       "      <td id=\"T_644af_row8_col16\" class=\"data row8 col16\" >0.000016</td>\n",
       "      <td id=\"T_644af_row8_col17\" class=\"data row8 col17\" >Topic_9</td>\n",
       "      <td id=\"T_644af_row8_col18\" class=\"data row8 col18\" >1</td>\n",
       "    </tr>\n",
       "    <tr>\n",
       "      <th id=\"T_644af_level0_row9\" class=\"row_heading level0 row9\" >10005.txt</th>\n",
       "      <td id=\"T_644af_row9_col0\" class=\"data row9 col0\" >0.205827</td>\n",
       "      <td id=\"T_644af_row9_col1\" class=\"data row9 col1\" >0.000177</td>\n",
       "      <td id=\"T_644af_row9_col2\" class=\"data row9 col2\" >0.000177</td>\n",
       "      <td id=\"T_644af_row9_col3\" class=\"data row9 col3\" >0.000177</td>\n",
       "      <td id=\"T_644af_row9_col4\" class=\"data row9 col4\" >0.000177</td>\n",
       "      <td id=\"T_644af_row9_col5\" class=\"data row9 col5\" >0.103102</td>\n",
       "      <td id=\"T_644af_row9_col6\" class=\"data row9 col6\" >0.023938</td>\n",
       "      <td id=\"T_644af_row9_col7\" class=\"data row9 col7\" >0.000177</td>\n",
       "      <td id=\"T_644af_row9_col8\" class=\"data row9 col8\" >0.160998</td>\n",
       "      <td id=\"T_644af_row9_col9\" class=\"data row9 col9\" >0.000177</td>\n",
       "      <td id=\"T_644af_row9_col10\" class=\"data row9 col10\" >0.000177</td>\n",
       "      <td id=\"T_644af_row9_col11\" class=\"data row9 col11\" >0.000177</td>\n",
       "      <td id=\"T_644af_row9_col12\" class=\"data row9 col12\" >0.373045</td>\n",
       "      <td id=\"T_644af_row9_col13\" class=\"data row9 col13\" >0.000177</td>\n",
       "      <td id=\"T_644af_row9_col14\" class=\"data row9 col14\" >0.108689</td>\n",
       "      <td id=\"T_644af_row9_col15\" class=\"data row9 col15\" >0.000177</td>\n",
       "      <td id=\"T_644af_row9_col16\" class=\"data row9 col16\" >0.022629</td>\n",
       "      <td id=\"T_644af_row9_col17\" class=\"data row9 col17\" >Topic_13</td>\n",
       "      <td id=\"T_644af_row9_col18\" class=\"data row9 col18\" >0</td>\n",
       "    </tr>\n",
       "    <tr>\n",
       "      <th id=\"T_644af_level0_row10\" class=\"row_heading level0 row10\" >10006.txt</th>\n",
       "      <td id=\"T_644af_row10_col0\" class=\"data row10 col0\" >0.000060</td>\n",
       "      <td id=\"T_644af_row10_col1\" class=\"data row10 col1\" >0.000060</td>\n",
       "      <td id=\"T_644af_row10_col2\" class=\"data row10 col2\" >0.000060</td>\n",
       "      <td id=\"T_644af_row10_col3\" class=\"data row10 col3\" >0.000060</td>\n",
       "      <td id=\"T_644af_row10_col4\" class=\"data row10 col4\" >0.012368</td>\n",
       "      <td id=\"T_644af_row10_col5\" class=\"data row10 col5\" >0.765933</td>\n",
       "      <td id=\"T_644af_row10_col6\" class=\"data row10 col6\" >0.002354</td>\n",
       "      <td id=\"T_644af_row10_col7\" class=\"data row10 col7\" >0.009038</td>\n",
       "      <td id=\"T_644af_row10_col8\" class=\"data row10 col8\" >0.000060</td>\n",
       "      <td id=\"T_644af_row10_col9\" class=\"data row10 col9\" >0.000060</td>\n",
       "      <td id=\"T_644af_row10_col10\" class=\"data row10 col10\" >0.000060</td>\n",
       "      <td id=\"T_644af_row10_col11\" class=\"data row10 col11\" >0.027562</td>\n",
       "      <td id=\"T_644af_row10_col12\" class=\"data row10 col12\" >0.109863</td>\n",
       "      <td id=\"T_644af_row10_col13\" class=\"data row10 col13\" >0.024248</td>\n",
       "      <td id=\"T_644af_row10_col14\" class=\"data row10 col14\" >0.000060</td>\n",
       "      <td id=\"T_644af_row10_col15\" class=\"data row10 col15\" >0.000060</td>\n",
       "      <td id=\"T_644af_row10_col16\" class=\"data row10 col16\" >0.048094</td>\n",
       "      <td id=\"T_644af_row10_col17\" class=\"data row10 col17\" >Topic_6</td>\n",
       "      <td id=\"T_644af_row10_col18\" class=\"data row10 col18\" >6</td>\n",
       "    </tr>\n",
       "    <tr>\n",
       "      <th id=\"T_644af_level0_row11\" class=\"row_heading level0 row11\" >10007.txt</th>\n",
       "      <td id=\"T_644af_row11_col0\" class=\"data row11 col0\" >0.000076</td>\n",
       "      <td id=\"T_644af_row11_col1\" class=\"data row11 col1\" >0.000076</td>\n",
       "      <td id=\"T_644af_row11_col2\" class=\"data row11 col2\" >0.000076</td>\n",
       "      <td id=\"T_644af_row11_col3\" class=\"data row11 col3\" >0.000076</td>\n",
       "      <td id=\"T_644af_row11_col4\" class=\"data row11 col4\" >0.262266</td>\n",
       "      <td id=\"T_644af_row11_col5\" class=\"data row11 col5\" >0.000076</td>\n",
       "      <td id=\"T_644af_row11_col6\" class=\"data row11 col6\" >0.000076</td>\n",
       "      <td id=\"T_644af_row11_col7\" class=\"data row11 col7\" >0.000076</td>\n",
       "      <td id=\"T_644af_row11_col8\" class=\"data row11 col8\" >0.000076</td>\n",
       "      <td id=\"T_644af_row11_col9\" class=\"data row11 col9\" >0.000076</td>\n",
       "      <td id=\"T_644af_row11_col10\" class=\"data row11 col10\" >0.183405</td>\n",
       "      <td id=\"T_644af_row11_col11\" class=\"data row11 col11\" >0.014516</td>\n",
       "      <td id=\"T_644af_row11_col12\" class=\"data row11 col12\" >0.000076</td>\n",
       "      <td id=\"T_644af_row11_col13\" class=\"data row11 col13\" >0.000076</td>\n",
       "      <td id=\"T_644af_row11_col14\" class=\"data row11 col14\" >0.000076</td>\n",
       "      <td id=\"T_644af_row11_col15\" class=\"data row11 col15\" >0.000076</td>\n",
       "      <td id=\"T_644af_row11_col16\" class=\"data row11 col16\" >0.538830</td>\n",
       "      <td id=\"T_644af_row11_col17\" class=\"data row11 col17\" >Topic_17</td>\n",
       "      <td id=\"T_644af_row11_col18\" class=\"data row11 col18\" >10</td>\n",
       "    </tr>\n",
       "    <tr>\n",
       "      <th id=\"T_644af_level0_row12\" class=\"row_heading level0 row12\" >10008.txt</th>\n",
       "      <td id=\"T_644af_row12_col0\" class=\"data row12 col0\" >0.000079</td>\n",
       "      <td id=\"T_644af_row12_col1\" class=\"data row12 col1\" >0.000079</td>\n",
       "      <td id=\"T_644af_row12_col2\" class=\"data row12 col2\" >0.088205</td>\n",
       "      <td id=\"T_644af_row12_col3\" class=\"data row12 col3\" >0.000079</td>\n",
       "      <td id=\"T_644af_row12_col4\" class=\"data row12 col4\" >0.056917</td>\n",
       "      <td id=\"T_644af_row12_col5\" class=\"data row12 col5\" >0.037264</td>\n",
       "      <td id=\"T_644af_row12_col6\" class=\"data row12 col6\" >0.493868</td>\n",
       "      <td id=\"T_644af_row12_col7\" class=\"data row12 col7\" >0.266266</td>\n",
       "      <td id=\"T_644af_row12_col8\" class=\"data row12 col8\" >0.000079</td>\n",
       "      <td id=\"T_644af_row12_col9\" class=\"data row12 col9\" >0.000079</td>\n",
       "      <td id=\"T_644af_row12_col10\" class=\"data row12 col10\" >0.000079</td>\n",
       "      <td id=\"T_644af_row12_col11\" class=\"data row12 col11\" >0.026044</td>\n",
       "      <td id=\"T_644af_row12_col12\" class=\"data row12 col12\" >0.000079</td>\n",
       "      <td id=\"T_644af_row12_col13\" class=\"data row12 col13\" >0.000079</td>\n",
       "      <td id=\"T_644af_row12_col14\" class=\"data row12 col14\" >0.000079</td>\n",
       "      <td id=\"T_644af_row12_col15\" class=\"data row12 col15\" >0.000079</td>\n",
       "      <td id=\"T_644af_row12_col16\" class=\"data row12 col16\" >0.030651</td>\n",
       "      <td id=\"T_644af_row12_col17\" class=\"data row12 col17\" >Topic_7</td>\n",
       "      <td id=\"T_644af_row12_col18\" class=\"data row12 col18\" >3</td>\n",
       "    </tr>\n",
       "    <tr>\n",
       "      <th id=\"T_644af_level0_row13\" class=\"row_heading level0 row13\" >10009.txt</th>\n",
       "      <td id=\"T_644af_row13_col0\" class=\"data row13 col0\" >0.001032</td>\n",
       "      <td id=\"T_644af_row13_col1\" class=\"data row13 col1\" >0.001032</td>\n",
       "      <td id=\"T_644af_row13_col2\" class=\"data row13 col2\" >0.001032</td>\n",
       "      <td id=\"T_644af_row13_col3\" class=\"data row13 col3\" >0.001032</td>\n",
       "      <td id=\"T_644af_row13_col4\" class=\"data row13 col4\" >0.001032</td>\n",
       "      <td id=\"T_644af_row13_col5\" class=\"data row13 col5\" >0.127490</td>\n",
       "      <td id=\"T_644af_row13_col6\" class=\"data row13 col6\" >0.001032</td>\n",
       "      <td id=\"T_644af_row13_col7\" class=\"data row13 col7\" >0.001032</td>\n",
       "      <td id=\"T_644af_row13_col8\" class=\"data row13 col8\" >0.001032</td>\n",
       "      <td id=\"T_644af_row13_col9\" class=\"data row13 col9\" >0.001032</td>\n",
       "      <td id=\"T_644af_row13_col10\" class=\"data row13 col10\" >0.001032</td>\n",
       "      <td id=\"T_644af_row13_col11\" class=\"data row13 col11\" >0.001032</td>\n",
       "      <td id=\"T_644af_row13_col12\" class=\"data row13 col12\" >0.223997</td>\n",
       "      <td id=\"T_644af_row13_col13\" class=\"data row13 col13\" >0.001032</td>\n",
       "      <td id=\"T_644af_row13_col14\" class=\"data row13 col14\" >0.302065</td>\n",
       "      <td id=\"T_644af_row13_col15\" class=\"data row13 col15\" >0.001032</td>\n",
       "      <td id=\"T_644af_row13_col16\" class=\"data row13 col16\" >0.333028</td>\n",
       "      <td id=\"T_644af_row13_col17\" class=\"data row13 col17\" >Topic_17</td>\n",
       "      <td id=\"T_644af_row13_col18\" class=\"data row13 col18\" >10</td>\n",
       "    </tr>\n",
       "    <tr>\n",
       "      <th id=\"T_644af_level0_row14\" class=\"row_heading level0 row14\" >1001.txt</th>\n",
       "      <td id=\"T_644af_row14_col0\" class=\"data row14 col0\" >0.000171</td>\n",
       "      <td id=\"T_644af_row14_col1\" class=\"data row14 col1\" >0.000171</td>\n",
       "      <td id=\"T_644af_row14_col2\" class=\"data row14 col2\" >0.000171</td>\n",
       "      <td id=\"T_644af_row14_col3\" class=\"data row14 col3\" >0.000171</td>\n",
       "      <td id=\"T_644af_row14_col4\" class=\"data row14 col4\" >0.000171</td>\n",
       "      <td id=\"T_644af_row14_col5\" class=\"data row14 col5\" >0.000171</td>\n",
       "      <td id=\"T_644af_row14_col6\" class=\"data row14 col6\" >0.000171</td>\n",
       "      <td id=\"T_644af_row14_col7\" class=\"data row14 col7\" >0.403397</td>\n",
       "      <td id=\"T_644af_row14_col8\" class=\"data row14 col8\" >0.000171</td>\n",
       "      <td id=\"T_644af_row14_col9\" class=\"data row14 col9\" >0.000171</td>\n",
       "      <td id=\"T_644af_row14_col10\" class=\"data row14 col10\" >0.000171</td>\n",
       "      <td id=\"T_644af_row14_col11\" class=\"data row14 col11\" >0.382713</td>\n",
       "      <td id=\"T_644af_row14_col12\" class=\"data row14 col12\" >0.211501</td>\n",
       "      <td id=\"T_644af_row14_col13\" class=\"data row14 col13\" >0.000171</td>\n",
       "      <td id=\"T_644af_row14_col14\" class=\"data row14 col14\" >0.000171</td>\n",
       "      <td id=\"T_644af_row14_col15\" class=\"data row14 col15\" >0.000171</td>\n",
       "      <td id=\"T_644af_row14_col16\" class=\"data row14 col16\" >0.000171</td>\n",
       "      <td id=\"T_644af_row14_col17\" class=\"data row14 col17\" >Topic_8</td>\n",
       "      <td id=\"T_644af_row14_col18\" class=\"data row14 col18\" >13</td>\n",
       "    </tr>\n",
       "    <tr>\n",
       "      <th id=\"T_644af_level0_row15\" class=\"row_heading level0 row15\" >10010.txt</th>\n",
       "      <td id=\"T_644af_row15_col0\" class=\"data row15 col0\" >0.000136</td>\n",
       "      <td id=\"T_644af_row15_col1\" class=\"data row15 col1\" >0.246048</td>\n",
       "      <td id=\"T_644af_row15_col2\" class=\"data row15 col2\" >0.000136</td>\n",
       "      <td id=\"T_644af_row15_col3\" class=\"data row15 col3\" >0.000136</td>\n",
       "      <td id=\"T_644af_row15_col4\" class=\"data row15 col4\" >0.154498</td>\n",
       "      <td id=\"T_644af_row15_col5\" class=\"data row15 col5\" >0.079208</td>\n",
       "      <td id=\"T_644af_row15_col6\" class=\"data row15 col6\" >0.058753</td>\n",
       "      <td id=\"T_644af_row15_col7\" class=\"data row15 col7\" >0.000136</td>\n",
       "      <td id=\"T_644af_row15_col8\" class=\"data row15 col8\" >0.000136</td>\n",
       "      <td id=\"T_644af_row15_col9\" class=\"data row15 col9\" >0.074698</td>\n",
       "      <td id=\"T_644af_row15_col10\" class=\"data row15 col10\" >0.000136</td>\n",
       "      <td id=\"T_644af_row15_col11\" class=\"data row15 col11\" >0.000136</td>\n",
       "      <td id=\"T_644af_row15_col12\" class=\"data row15 col12\" >0.175897</td>\n",
       "      <td id=\"T_644af_row15_col13\" class=\"data row15 col13\" >0.013829</td>\n",
       "      <td id=\"T_644af_row15_col14\" class=\"data row15 col14\" >0.195842</td>\n",
       "      <td id=\"T_644af_row15_col15\" class=\"data row15 col15\" >0.000136</td>\n",
       "      <td id=\"T_644af_row15_col16\" class=\"data row15 col16\" >0.000136</td>\n",
       "      <td id=\"T_644af_row15_col17\" class=\"data row15 col17\" >Topic_2</td>\n",
       "      <td id=\"T_644af_row15_col18\" class=\"data row15 col18\" >2</td>\n",
       "    </tr>\n",
       "    <tr>\n",
       "      <th id=\"T_644af_level0_row16\" class=\"row_heading level0 row16\" >10011.txt</th>\n",
       "      <td id=\"T_644af_row16_col0\" class=\"data row16 col0\" >0.227329</td>\n",
       "      <td id=\"T_644af_row16_col1\" class=\"data row16 col1\" >0.000081</td>\n",
       "      <td id=\"T_644af_row16_col2\" class=\"data row16 col2\" >0.042252</td>\n",
       "      <td id=\"T_644af_row16_col3\" class=\"data row16 col3\" >0.000081</td>\n",
       "      <td id=\"T_644af_row16_col4\" class=\"data row16 col4\" >0.053031</td>\n",
       "      <td id=\"T_644af_row16_col5\" class=\"data row16 col5\" >0.399087</td>\n",
       "      <td id=\"T_644af_row16_col6\" class=\"data row16 col6\" >0.000081</td>\n",
       "      <td id=\"T_644af_row16_col7\" class=\"data row16 col7\" >0.000081</td>\n",
       "      <td id=\"T_644af_row16_col8\" class=\"data row16 col8\" >0.000081</td>\n",
       "      <td id=\"T_644af_row16_col9\" class=\"data row16 col9\" >0.000081</td>\n",
       "      <td id=\"T_644af_row16_col10\" class=\"data row16 col10\" >0.000081</td>\n",
       "      <td id=\"T_644af_row16_col11\" class=\"data row16 col11\" >0.000081</td>\n",
       "      <td id=\"T_644af_row16_col12\" class=\"data row16 col12\" >0.081458</td>\n",
       "      <td id=\"T_644af_row16_col13\" class=\"data row16 col13\" >0.000081</td>\n",
       "      <td id=\"T_644af_row16_col14\" class=\"data row16 col14\" >0.000081</td>\n",
       "      <td id=\"T_644af_row16_col15\" class=\"data row16 col15\" >0.000081</td>\n",
       "      <td id=\"T_644af_row16_col16\" class=\"data row16 col16\" >0.195950</td>\n",
       "      <td id=\"T_644af_row16_col17\" class=\"data row16 col17\" >Topic_6</td>\n",
       "      <td id=\"T_644af_row16_col18\" class=\"data row16 col18\" >6</td>\n",
       "    </tr>\n",
       "    <tr>\n",
       "      <th id=\"T_644af_level0_row17\" class=\"row_heading level0 row17\" >10012.txt</th>\n",
       "      <td id=\"T_644af_row17_col0\" class=\"data row17 col0\" >0.000163</td>\n",
       "      <td id=\"T_644af_row17_col1\" class=\"data row17 col1\" >0.000163</td>\n",
       "      <td id=\"T_644af_row17_col2\" class=\"data row17 col2\" >0.133862</td>\n",
       "      <td id=\"T_644af_row17_col3\" class=\"data row17 col3\" >0.000163</td>\n",
       "      <td id=\"T_644af_row17_col4\" class=\"data row17 col4\" >0.000163</td>\n",
       "      <td id=\"T_644af_row17_col5\" class=\"data row17 col5\" >0.000163</td>\n",
       "      <td id=\"T_644af_row17_col6\" class=\"data row17 col6\" >0.000163</td>\n",
       "      <td id=\"T_644af_row17_col7\" class=\"data row17 col7\" >0.671535</td>\n",
       "      <td id=\"T_644af_row17_col8\" class=\"data row17 col8\" >0.032514</td>\n",
       "      <td id=\"T_644af_row17_col9\" class=\"data row17 col9\" >0.000163</td>\n",
       "      <td id=\"T_644af_row17_col10\" class=\"data row17 col10\" >0.000163</td>\n",
       "      <td id=\"T_644af_row17_col11\" class=\"data row17 col11\" >0.000163</td>\n",
       "      <td id=\"T_644af_row17_col12\" class=\"data row17 col12\" >0.000163</td>\n",
       "      <td id=\"T_644af_row17_col13\" class=\"data row17 col13\" >0.159976</td>\n",
       "      <td id=\"T_644af_row17_col14\" class=\"data row17 col14\" >0.000163</td>\n",
       "      <td id=\"T_644af_row17_col15\" class=\"data row17 col15\" >0.000163</td>\n",
       "      <td id=\"T_644af_row17_col16\" class=\"data row17 col16\" >0.000163</td>\n",
       "      <td id=\"T_644af_row17_col17\" class=\"data row17 col17\" >Topic_8</td>\n",
       "      <td id=\"T_644af_row17_col18\" class=\"data row17 col18\" >13</td>\n",
       "    </tr>\n",
       "    <tr>\n",
       "      <th id=\"T_644af_level0_row18\" class=\"row_heading level0 row18\" >10013.txt</th>\n",
       "      <td id=\"T_644af_row18_col0\" class=\"data row18 col0\" >0.425734</td>\n",
       "      <td id=\"T_644af_row18_col1\" class=\"data row18 col1\" >0.000586</td>\n",
       "      <td id=\"T_644af_row18_col2\" class=\"data row18 col2\" >0.000586</td>\n",
       "      <td id=\"T_644af_row18_col3\" class=\"data row18 col3\" >0.000586</td>\n",
       "      <td id=\"T_644af_row18_col4\" class=\"data row18 col4\" >0.000586</td>\n",
       "      <td id=\"T_644af_row18_col5\" class=\"data row18 col5\" >0.000586</td>\n",
       "      <td id=\"T_644af_row18_col6\" class=\"data row18 col6\" >0.000586</td>\n",
       "      <td id=\"T_644af_row18_col7\" class=\"data row18 col7\" >0.565479</td>\n",
       "      <td id=\"T_644af_row18_col8\" class=\"data row18 col8\" >0.000586</td>\n",
       "      <td id=\"T_644af_row18_col9\" class=\"data row18 col9\" >0.000586</td>\n",
       "      <td id=\"T_644af_row18_col10\" class=\"data row18 col10\" >0.000586</td>\n",
       "      <td id=\"T_644af_row18_col11\" class=\"data row18 col11\" >0.000586</td>\n",
       "      <td id=\"T_644af_row18_col12\" class=\"data row18 col12\" >0.000586</td>\n",
       "      <td id=\"T_644af_row18_col13\" class=\"data row18 col13\" >0.000586</td>\n",
       "      <td id=\"T_644af_row18_col14\" class=\"data row18 col14\" >0.000586</td>\n",
       "      <td id=\"T_644af_row18_col15\" class=\"data row18 col15\" >0.000586</td>\n",
       "      <td id=\"T_644af_row18_col16\" class=\"data row18 col16\" >0.000586</td>\n",
       "      <td id=\"T_644af_row18_col17\" class=\"data row18 col17\" >Topic_8</td>\n",
       "      <td id=\"T_644af_row18_col18\" class=\"data row18 col18\" >13</td>\n",
       "    </tr>\n",
       "    <tr>\n",
       "      <th id=\"T_644af_level0_row19\" class=\"row_heading level0 row19\" >10014.txt</th>\n",
       "      <td id=\"T_644af_row19_col0\" class=\"data row19 col0\" >0.030994</td>\n",
       "      <td id=\"T_644af_row19_col1\" class=\"data row19 col1\" >0.000085</td>\n",
       "      <td id=\"T_644af_row19_col2\" class=\"data row19 col2\" >0.000085</td>\n",
       "      <td id=\"T_644af_row19_col3\" class=\"data row19 col3\" >0.000085</td>\n",
       "      <td id=\"T_644af_row19_col4\" class=\"data row19 col4\" >0.000085</td>\n",
       "      <td id=\"T_644af_row19_col5\" class=\"data row19 col5\" >0.000085</td>\n",
       "      <td id=\"T_644af_row19_col6\" class=\"data row19 col6\" >0.000085</td>\n",
       "      <td id=\"T_644af_row19_col7\" class=\"data row19 col7\" >0.085854</td>\n",
       "      <td id=\"T_644af_row19_col8\" class=\"data row19 col8\" >0.881959</td>\n",
       "      <td id=\"T_644af_row19_col9\" class=\"data row19 col9\" >0.000085</td>\n",
       "      <td id=\"T_644af_row19_col10\" class=\"data row19 col10\" >0.000085</td>\n",
       "      <td id=\"T_644af_row19_col11\" class=\"data row19 col11\" >0.000085</td>\n",
       "      <td id=\"T_644af_row19_col12\" class=\"data row19 col12\" >0.000085</td>\n",
       "      <td id=\"T_644af_row19_col13\" class=\"data row19 col13\" >0.000085</td>\n",
       "      <td id=\"T_644af_row19_col14\" class=\"data row19 col14\" >0.000085</td>\n",
       "      <td id=\"T_644af_row19_col15\" class=\"data row19 col15\" >0.000085</td>\n",
       "      <td id=\"T_644af_row19_col16\" class=\"data row19 col16\" >0.000085</td>\n",
       "      <td id=\"T_644af_row19_col17\" class=\"data row19 col17\" >Topic_9</td>\n",
       "      <td id=\"T_644af_row19_col18\" class=\"data row19 col18\" >1</td>\n",
       "    </tr>\n",
       "  </tbody>\n",
       "</table>\n"
      ],
      "text/plain": [
       "<pandas.io.formats.style.Styler at 0x7fceeee7c5e0>"
      ]
     },
     "execution_count": 266,
     "metadata": {},
     "output_type": "execute_result"
    }
   ],
   "source": [
    "# Choose the number of clusters\n",
    "k = 17  # For instance, but you might want to determine this using the Elbow Method or other techniques\n",
    "\n",
    "# Apply K-means clustering\n",
    "kmeans = KMeans(n_clusters=k, random_state=2023)\n",
    "df['Cluster'] = kmeans.fit_predict(doc_topic_matrix)\n",
    "\n",
    "clust_labels = kmeans.predict(doc_topic_matrix)\n",
    "\n",
    "# The DataFrame now has an additional 'Cluster' column indicating the cluster number for each document\n",
    "df.head(20).style.applymap(color_green).applymap(make_bold)"
   ]
  },
  {
   "cell_type": "code",
   "execution_count": 267,
   "metadata": {},
   "outputs": [],
   "source": [
    "df.to_csv('testdata.csv')"
   ]
  },
  {
   "cell_type": "code",
   "execution_count": 268,
   "metadata": {},
   "outputs": [],
   "source": [
    "fileids = corpus.fileids()\n",
    "# check number of file ids = number of cluster labels\n",
    "kmeans_labels = pd.DataFrame(clust_labels)\n",
    "len(fileids) == len(kmeans_labels)\n",
    "\n",
    "# append file IDs to cluster labels\n",
    "fileids_col = pd.Series(fileids, name='FileID')\n",
    "kmeans_labels['FileID'] = fileids_col\n",
    "\n",
    "# kmeans_labels = pd.DataFrame(clust_labels)"
   ]
  },
  {
   "cell_type": "markdown",
   "metadata": {},
   "source": [
    "##### Export visually"
   ]
  },
  {
   "cell_type": "code",
   "execution_count": 269,
   "metadata": {},
   "outputs": [],
   "source": [
    "import pyLDAvis.gensim_models # Works\n",
    "pyLDAvis.enable_notebook()"
   ]
  },
  {
   "cell_type": "code",
   "execution_count": 270,
   "metadata": {},
   "outputs": [
    {
     "name": "stdout",
     "output_type": "stream",
     "text": [
      "CPU times: user 35.8 s, sys: 1min 4s, total: 1min 40s\n",
      "Wall time: 22.7 s\n"
     ]
    }
   ],
   "source": [
    "%%time\n",
    "# Generate the visuals\n",
    "\n",
    "visual= pyLDAvis.gensim_models.prepare(lda_gen, law_vecs, dictionary)"
   ]
  },
  {
   "cell_type": "code",
   "execution_count": 271,
   "metadata": {},
   "outputs": [],
   "source": [
    "# Save the output to the html file\n",
    "pyLDAvis.save_html(visual, \"topic_viz_clust0_17.html\")"
   ]
  },
  {
   "cell_type": "markdown",
   "metadata": {},
   "source": [
    "- Saving the best LDA model"
   ]
  },
  {
   "cell_type": "code",
   "execution_count": 272,
   "metadata": {},
   "outputs": [
    {
     "data": {
      "text/plain": [
       "['lda_17.joblib']"
      ]
     },
     "execution_count": 272,
     "metadata": {},
     "output_type": "execute_result"
    }
   ],
   "source": [
    "dump(lda_gen, 'lda_17.joblib')"
   ]
  },
  {
   "cell_type": "markdown",
   "metadata": {},
   "source": [
    "- Loading the best LDA model"
   ]
  },
  {
   "cell_type": "markdown",
   "metadata": {},
   "source": [
    "## Querying of information"
   ]
  },
  {
   "cell_type": "markdown",
   "metadata": {},
   "source": [
    "### Create Sparse Matrix Similarity for Corpus first"
   ]
  },
  {
   "cell_type": "code",
   "execution_count": 273,
   "metadata": {},
   "outputs": [],
   "source": [
    "# To find the similarity scores, create a reverse index\n",
    "Index = similarities.SparseMatrixSimilarity(law_vecs, len(dictionary))\n",
    "\n",
    "# Create a TFIDF reveset index\n",
    "TFIDF = models.TfidfModel(law_vecs)\n",
    "VectorsWithTFIDF = [TFIDF[vec] for vec in law_vecs]\n",
    "IndexWithTFIDF = similarities.SparseMatrixSimilarity(VectorsWithTFIDF, len(dictionary))"
   ]
  },
  {
   "cell_type": "markdown",
   "metadata": {},
   "source": [
    "### Get list of top 10 similar documents"
   ]
  },
  {
   "cell_type": "code",
   "execution_count": 274,
   "metadata": {},
   "outputs": [],
   "source": [
    "# Tokenize and Vectorize the query document\n",
    "## I used an unseen document for testing, I verified the top 4 documents in the results against this unseen document and it seems similar enough\n",
    "text_to_query = '3850.txt'\n",
    "query = PlaintextCorpusReader('us-supreme-court[raw-cases-22776]',text_to_query, encoding='latin-1') \n",
    "query_tokens = preprocessing(query)\n",
    "\n",
    "# Create a query vector using the same dictionary as the corpus\n",
    "qVector = docs2vecs(query_tokens, dictionary)\n",
    "\n",
    "# Get its TFIDF from the same model as the corpus\n",
    "qVectorTFIDF = TFIDF[qVector]\n",
    "# print(qVector, qVectorTFIDF)"
   ]
  },
  {
   "cell_type": "code",
   "execution_count": 275,
   "metadata": {},
   "outputs": [],
   "source": [
    "# Get the similaries from the two indexes (raw and TFIDF)\n",
    "# simRaw = Index[qVector]\n",
    "simTFIDF = IndexWithTFIDF[qVectorTFIDF]\n",
    "\n",
    "# Flatten the array otherwise it doesnt sort correctly\n",
    "# simRaw_flat = list(chain(*simRaw))\n",
    "simTFIDF_flat = list(chain(*simTFIDF))\n",
    "\n",
    "# sort them\n",
    "# simSorted = sorted(enumerate(simRaw_flat), key = lambda item: -item[1])\n",
    "simTFIDFSorted = sorted(enumerate(simTFIDF_flat), key = lambda item: -item[1])"
   ]
  },
  {
   "cell_type": "code",
   "execution_count": 276,
   "metadata": {},
   "outputs": [
    {
     "name": "stdout",
     "output_type": "stream",
     "text": [
      "\n",
      "Search results using TFIDF scores. (Filename, score):\n",
      "('4891.txt', 0.43636736)\n",
      "('12917.txt', 0.4015394)\n",
      "('6542.txt', 0.39755785)\n",
      "('931.txt', 0.39265814)\n",
      "('1082.txt', 0.37963608)\n",
      "('445.txt', 0.37508303)\n",
      "('11860.txt', 0.3623448)\n",
      "('6942.txt', 0.3570003)\n",
      "('10930.txt', 0.35337126)\n",
      "('1604.txt', 0.35132128)\n"
     ]
    }
   ],
   "source": [
    "# Translate the file ids to filenames\n",
    "# In the list comprehension, sim is a tuple, and its elements are extracted just like a list\n",
    "# Note that the output also is a list of tuples, with the first element replaced by the filename\n",
    "# fRaw = [(corpus.fileids()[sim[0]], sim[1]) for sim in simSorted[0:5]]\n",
    "fTFIDF = [(corpus.fileids()[sim[0]], sim[1]) for sim in simTFIDFSorted if text_to_query not in corpus.fileids()[sim[0]]][:10]\n",
    "\n",
    "# Using the * operator, you can use the separator\n",
    "# print(\"Search results using RAW scores. (Filename, score):\")\n",
    "# print(*fRaw, sep = '\\n')\n",
    "print(\"\\nSearch results using TFIDF scores. (Filename, score):\")\n",
    "print(*fTFIDF, sep = '\\n')"
   ]
  },
  {
   "cell_type": "code",
   "execution_count": 277,
   "metadata": {},
   "outputs": [
    {
     "data": {
      "text/html": [
       "<div>\n",
       "<style scoped>\n",
       "    .dataframe tbody tr th:only-of-type {\n",
       "        vertical-align: middle;\n",
       "    }\n",
       "\n",
       "    .dataframe tbody tr th {\n",
       "        vertical-align: top;\n",
       "    }\n",
       "\n",
       "    .dataframe thead th {\n",
       "        text-align: right;\n",
       "    }\n",
       "</style>\n",
       "<table border=\"1\" class=\"dataframe\">\n",
       "  <thead>\n",
       "    <tr style=\"text-align: right;\">\n",
       "      <th></th>\n",
       "      <th>Cluster</th>\n",
       "      <th>rank</th>\n",
       "    </tr>\n",
       "  </thead>\n",
       "  <tbody>\n",
       "    <tr>\n",
       "      <th>4891.txt</th>\n",
       "      <td>6</td>\n",
       "      <td>1</td>\n",
       "    </tr>\n",
       "    <tr>\n",
       "      <th>12917.txt</th>\n",
       "      <td>6</td>\n",
       "      <td>2</td>\n",
       "    </tr>\n",
       "    <tr>\n",
       "      <th>6542.txt</th>\n",
       "      <td>3</td>\n",
       "      <td>3</td>\n",
       "    </tr>\n",
       "    <tr>\n",
       "      <th>931.txt</th>\n",
       "      <td>3</td>\n",
       "      <td>4</td>\n",
       "    </tr>\n",
       "    <tr>\n",
       "      <th>1082.txt</th>\n",
       "      <td>6</td>\n",
       "      <td>5</td>\n",
       "    </tr>\n",
       "    <tr>\n",
       "      <th>445.txt</th>\n",
       "      <td>3</td>\n",
       "      <td>6</td>\n",
       "    </tr>\n",
       "    <tr>\n",
       "      <th>11860.txt</th>\n",
       "      <td>3</td>\n",
       "      <td>7</td>\n",
       "    </tr>\n",
       "    <tr>\n",
       "      <th>6942.txt</th>\n",
       "      <td>3</td>\n",
       "      <td>8</td>\n",
       "    </tr>\n",
       "    <tr>\n",
       "      <th>10930.txt</th>\n",
       "      <td>12</td>\n",
       "      <td>9</td>\n",
       "    </tr>\n",
       "    <tr>\n",
       "      <th>1604.txt</th>\n",
       "      <td>6</td>\n",
       "      <td>10</td>\n",
       "    </tr>\n",
       "  </tbody>\n",
       "</table>\n",
       "</div>"
      ],
      "text/plain": [
       "           Cluster  rank\n",
       "4891.txt         6     1\n",
       "12917.txt        6     2\n",
       "6542.txt         3     3\n",
       "931.txt          3     4\n",
       "1082.txt         6     5\n",
       "445.txt          3     6\n",
       "11860.txt        3     7\n",
       "6942.txt         3     8\n",
       "10930.txt       12     9\n",
       "1604.txt         6    10"
      ]
     },
     "execution_count": 277,
     "metadata": {},
     "output_type": "execute_result"
    }
   ],
   "source": [
    "# add in the document clusters\n",
    "relevant_doc_ids = [t[0] for t in fTFIDF]\n",
    "relevant_docs_df = df.loc[relevant_doc_ids][[df.columns[-1]]]\n",
    "relevant_docs_df['rank'] = range(1, len(relevant_docs_df) + 1)\n",
    "relevant_docs_df"
   ]
  },
  {
   "cell_type": "markdown",
   "metadata": {},
   "source": [
    "### Predict the query's topic and cluster"
   ]
  },
  {
   "cell_type": "code",
   "execution_count": 278,
   "metadata": {},
   "outputs": [],
   "source": [
    "# Fit query vector into LDA model\n",
    "query_lda = lda_gen[qVector]\n",
    "\n",
    "# Fill the matrix with topic probabilities\n",
    "topic_prob = list(chain(*[topic for topic in query_lda]))\n",
    "\n",
    "# Convert into a matrix and transpose\n",
    "query_matrix = np.zeros(lda_gen.num_topics)\n",
    "for topic, prob in topic_prob:\n",
    "    query_matrix[topic] = prob\n",
    "\n",
    "query_matrix = query_matrix.reshape(1, -1)"
   ]
  },
  {
   "cell_type": "code",
   "execution_count": 279,
   "metadata": {},
   "outputs": [
    {
     "name": "stdout",
     "output_type": "stream",
     "text": [
      "The predicted cluster for the query is: [3]\n"
     ]
    }
   ],
   "source": [
    "# predict which cluster the query belongs to\n",
    "predicted_cluster = kmeans.predict(query_matrix)\n",
    "print(f\"The predicted cluster for the query is: {predicted_cluster}\")"
   ]
  },
  {
   "cell_type": "markdown",
   "metadata": {},
   "source": [
    "## Evaluation"
   ]
  },
  {
   "cell_type": "markdown",
   "metadata": {},
   "source": [
    "### 1. Compute AP based on query"
   ]
  },
  {
   "cell_type": "code",
   "execution_count": 280,
   "metadata": {},
   "outputs": [],
   "source": [
    "def compute_ap(relevant_docs_df, predicted_cluster):\n",
    "    ap = 0.0\n",
    "    p = 0.0\n",
    "    hit_count = 0\n",
    "    for i, label in enumerate(relevant_docs_df['Cluster']):\n",
    "        if label == predicted_cluster:\n",
    "            hit_count += 1\n",
    "            p += hit_count / (i + 1)\n",
    "    if hit_count == 0:\n",
    "        ap = 0 \n",
    "    else:\n",
    "        ap = p / hit_count \n",
    "    \n",
    "    return ap"
   ]
  },
  {
   "cell_type": "code",
   "execution_count": 281,
   "metadata": {},
   "outputs": [
    {
     "name": "stdout",
     "output_type": "stream",
     "text": [
      "Average precision for the query is: 0.5059523809523809\n"
     ]
    }
   ],
   "source": [
    "ap = compute_ap(relevant_docs_df, predicted_cluster)\n",
    "print(f\"Average precision for the query is: {ap}\")"
   ]
  },
  {
   "cell_type": "markdown",
   "metadata": {},
   "source": [
    "### 2. Compute Mean Average Precision across all documents"
   ]
  },
  {
   "cell_type": "code",
   "execution_count": 282,
   "metadata": {},
   "outputs": [
    {
     "name": "stderr",
     "output_type": "stream",
     "text": [
      "15000it [34:30,  7.24it/s]\n"
     ]
    }
   ],
   "source": [
    "total_ap = []\n",
    "\n",
    "for i, tokens in tqdm(enumerate(tokenized_1gram)):\n",
    "    text_to_query = str(i+1) + '.txt'\n",
    "    # Create a query vector using the same dictionary as the corpus\n",
    "    query = PlaintextCorpusReader('us-supreme-court[raw-cases-22776]',text_to_query, encoding='latin-1') \n",
    "    query_tokens = preprocessing(query)\n",
    "    qVector = docs2vecs(query_tokens, dictionary)\n",
    "\n",
    "\n",
    "    # Get its TFIDF from the same model as the corpus\n",
    "    qVectorTFIDF = TFIDF[qVector]\n",
    "\n",
    "    # Get the similaries from the two indexes (raw and TFIDF)\n",
    "    # simRaw = Index[qVector]\n",
    "    simTFIDF = IndexWithTFIDF[qVectorTFIDF]\n",
    "    \n",
    "\n",
    "    # simRaw_flat = list(chain(*simRaw))\n",
    "    simTFIDF_flat = list(chain(*simTFIDF))\n",
    "\n",
    "    # sort them\n",
    "    # simSorted = sorted(enumerate(simRaw_flat), key = lambda item: -item[1])\n",
    "    simTFIDFSorted = sorted(enumerate(simTFIDF_flat), key = lambda item: -item[1])\n",
    "    \n",
    "    fTFIDF = [(corpus.fileids()[sim[0]], sim[1]) for sim in simTFIDFSorted if text_to_query not in corpus.fileids()[sim[0]]][:10]\n",
    "    \n",
    "    # add in the document clusters\n",
    "    relevant_doc_ids = [t[0] for t in fTFIDF]\n",
    "    relevant_docs_df = df.loc[relevant_doc_ids][[df.columns[-1]]]\n",
    "    relevant_docs_df['rank'] = range(1, len(relevant_docs_df) + 1)\n",
    "    \n",
    "    # Fit query vector into LDA model\n",
    "    query_lda = lda_gen[qVector]\n",
    "\n",
    "    # Fill the matrix with topic probabilities\n",
    "    topic_prob = list(chain(*[topic for topic in query_lda]))\n",
    "\n",
    "    # Convert into a matrix and transpose, then get kmeans to predict the correcct cluster\n",
    "    query_matrix = np.zeros(lda_gen.num_topics)\n",
    "    for topic, prob in topic_prob:\n",
    "        query_matrix[topic] = prob\n",
    "\n",
    "    query_matrix = query_matrix.reshape(1, -1)\n",
    "    \n",
    "    predicted_cluster = kmeans.predict(query_matrix)\n",
    "    \n",
    "    total_ap.append(compute_ap(relevant_docs_df, predicted_cluster)) "
   ]
  },
  {
   "cell_type": "code",
   "execution_count": 283,
   "metadata": {},
   "outputs": [
    {
     "name": "stdout",
     "output_type": "stream",
     "text": [
      "The MAP across all 15000 documents is 0.697125161617116\n"
     ]
    }
   ],
   "source": [
    "print('The MAP across all 15000 documents is', np.mean(total_ap))"
   ]
  }
 ],
 "metadata": {
  "kernelspec": {
   "display_name": "Python 3",
   "language": "python",
   "name": "python3"
  },
  "language_info": {
   "codemirror_mode": {
    "name": "ipython",
    "version": 3
   },
   "file_extension": ".py",
   "mimetype": "text/x-python",
   "name": "python",
   "nbconvert_exporter": "python",
   "pygments_lexer": "ipython3",
   "version": "3.9.5"
  }
 },
 "nbformat": 4,
 "nbformat_minor": 2
}
